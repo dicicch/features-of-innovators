{
 "cells": [
  {
   "cell_type": "markdown",
   "metadata": {},
   "source": [
    "Hunter S. DiCicco\n",
    "\n",
    "DS440-002: Data Science Capstone\n",
    "\n",
    "Dr. Rigas, for Drs. Niki and Paris Von Lockette\n",
    "\n",
    "# Penn State Public Policy: Estimating the Upper Bound of the United States Innovative Capacity\n",
    "## Model Exploration\n",
    "### Setup and Imports"
   ]
  },
  {
   "cell_type": "code",
   "execution_count": 1,
   "metadata": {},
   "outputs": [],
   "source": [
    "import numpy as np\n",
    "import pandas as pd\n",
    "import seaborn as sns\n",
    "import matplotlib as mpl\n",
    "import matplotlib.pyplot as plt\n",
    "\n",
    "from sklearn.cluster import KMeans\n",
    "from sklearn.pipeline import Pipeline\n",
    "from sklearn.decomposition import PCA\n",
    "from sklearn.preprocessing import StandardScaler, normalize\n",
    "from sklearn.ensemble import ExtraTreesRegressor, ExtraTreesClassifier"
   ]
  },
  {
   "cell_type": "markdown",
   "metadata": {},
   "source": [
    "### Data Read\n",
    "\n",
    "When we read in the `CZChar` dataset, we skip the first five rows which contain human-readable information. The sixth row is the header."
   ]
  },
  {
   "cell_type": "code",
   "execution_count": 2,
   "metadata": {},
   "outputs": [],
   "source": [
    "czc = pd.read_csv(\"../project/volume/data/raw/czchar.csv\",\n",
    "                  skiprows=list(range(6))+[7],\n",
    "                  header=0)\n",
    "\n",
    "ipumsA = pd.read_csv(\"../project/volume/data/interim/ipums_filtered.csv\")"
   ]
  },
  {
   "cell_type": "code",
   "execution_count": 3,
   "metadata": {},
   "outputs": [
    {
     "data": {
      "text/html": [
       "<div>\n",
       "<style scoped>\n",
       "    .dataframe tbody tr th:only-of-type {\n",
       "        vertical-align: middle;\n",
       "    }\n",
       "\n",
       "    .dataframe tbody tr th {\n",
       "        vertical-align: top;\n",
       "    }\n",
       "\n",
       "    .dataframe thead th {\n",
       "        text-align: right;\n",
       "    }\n",
       "</style>\n",
       "<table border=\"1\" class=\"dataframe\">\n",
       "  <thead>\n",
       "    <tr style=\"text-align: right;\">\n",
       "      <th></th>\n",
       "      <th>vetstatd</th>\n",
       "      <th>schltype</th>\n",
       "      <th>school</th>\n",
       "      <th>vetstat</th>\n",
       "      <th>incss</th>\n",
       "      <th>incwelfr</th>\n",
       "      <th>citizen</th>\n",
       "      <th>hhincome</th>\n",
       "      <th>incinvst</th>\n",
       "      <th>mortgag2</th>\n",
       "      <th>mortgage</th>\n",
       "      <th>gradeatt</th>\n",
       "      <th>gradeattd</th>\n",
       "      <th>metro</th>\n",
       "    </tr>\n",
       "  </thead>\n",
       "  <tbody>\n",
       "    <tr>\n",
       "      <td>0</td>\n",
       "      <td>11.0</td>\n",
       "      <td>0.0</td>\n",
       "      <td>1.0</td>\n",
       "      <td>1.0</td>\n",
       "      <td>0.0</td>\n",
       "      <td>0.0</td>\n",
       "      <td>0.0</td>\n",
       "      <td>9205.0</td>\n",
       "      <td>0.0</td>\n",
       "      <td>1.0</td>\n",
       "      <td>3.0</td>\n",
       "      <td>0.0</td>\n",
       "      <td>0.0</td>\n",
       "      <td>4.0</td>\n",
       "    </tr>\n",
       "    <tr>\n",
       "      <td>1</td>\n",
       "      <td>11.0</td>\n",
       "      <td>0.0</td>\n",
       "      <td>1.0</td>\n",
       "      <td>1.0</td>\n",
       "      <td>0.0</td>\n",
       "      <td>0.0</td>\n",
       "      <td>0.0</td>\n",
       "      <td>42930.0</td>\n",
       "      <td>0.0</td>\n",
       "      <td>1.0</td>\n",
       "      <td>3.0</td>\n",
       "      <td>0.0</td>\n",
       "      <td>0.0</td>\n",
       "      <td>4.0</td>\n",
       "    </tr>\n",
       "    <tr>\n",
       "      <td>2</td>\n",
       "      <td>11.0</td>\n",
       "      <td>0.0</td>\n",
       "      <td>1.0</td>\n",
       "      <td>1.0</td>\n",
       "      <td>0.0</td>\n",
       "      <td>0.0</td>\n",
       "      <td>0.0</td>\n",
       "      <td>46010.0</td>\n",
       "      <td>0.0</td>\n",
       "      <td>2.0</td>\n",
       "      <td>3.0</td>\n",
       "      <td>0.0</td>\n",
       "      <td>0.0</td>\n",
       "      <td>4.0</td>\n",
       "    </tr>\n",
       "    <tr>\n",
       "      <td>3</td>\n",
       "      <td>11.0</td>\n",
       "      <td>0.0</td>\n",
       "      <td>1.0</td>\n",
       "      <td>1.0</td>\n",
       "      <td>0.0</td>\n",
       "      <td>0.0</td>\n",
       "      <td>0.0</td>\n",
       "      <td>7225.0</td>\n",
       "      <td>25.0</td>\n",
       "      <td>0.0</td>\n",
       "      <td>0.0</td>\n",
       "      <td>0.0</td>\n",
       "      <td>0.0</td>\n",
       "      <td>4.0</td>\n",
       "    </tr>\n",
       "    <tr>\n",
       "      <td>4</td>\n",
       "      <td>0.0</td>\n",
       "      <td>2.0</td>\n",
       "      <td>2.0</td>\n",
       "      <td>0.0</td>\n",
       "      <td>99999.0</td>\n",
       "      <td>99999.0</td>\n",
       "      <td>0.0</td>\n",
       "      <td>41075.0</td>\n",
       "      <td>999999.0</td>\n",
       "      <td>1.0</td>\n",
       "      <td>3.0</td>\n",
       "      <td>5.0</td>\n",
       "      <td>51.0</td>\n",
       "      <td>4.0</td>\n",
       "    </tr>\n",
       "  </tbody>\n",
       "</table>\n",
       "</div>"
      ],
      "text/plain": [
       "   vetstatd  schltype  school  vetstat    incss  incwelfr  citizen  hhincome  \\\n",
       "0      11.0       0.0     1.0      1.0      0.0       0.0      0.0    9205.0   \n",
       "1      11.0       0.0     1.0      1.0      0.0       0.0      0.0   42930.0   \n",
       "2      11.0       0.0     1.0      1.0      0.0       0.0      0.0   46010.0   \n",
       "3      11.0       0.0     1.0      1.0      0.0       0.0      0.0    7225.0   \n",
       "4       0.0       2.0     2.0      0.0  99999.0   99999.0      0.0   41075.0   \n",
       "\n",
       "   incinvst  mortgag2  mortgage  gradeatt  gradeattd  metro  \n",
       "0       0.0       1.0       3.0       0.0        0.0    4.0  \n",
       "1       0.0       1.0       3.0       0.0        0.0    4.0  \n",
       "2       0.0       2.0       3.0       0.0        0.0    4.0  \n",
       "3      25.0       0.0       0.0       0.0        0.0    4.0  \n",
       "4  999999.0       1.0       3.0       5.0       51.0    4.0  "
      ]
     },
     "execution_count": 3,
     "metadata": {},
     "output_type": "execute_result"
    }
   ],
   "source": [
    "ipumsA.head()"
   ]
  },
  {
   "cell_type": "code",
   "execution_count": 4,
   "metadata": {},
   "outputs": [
    {
     "data": {
      "text/html": [
       "<div>\n",
       "<style scoped>\n",
       "    .dataframe tbody tr th:only-of-type {\n",
       "        vertical-align: middle;\n",
       "    }\n",
       "\n",
       "    .dataframe tbody tr th {\n",
       "        vertical-align: top;\n",
       "    }\n",
       "\n",
       "    .dataframe thead th {\n",
       "        text-align: right;\n",
       "    }\n",
       "</style>\n",
       "<table border=\"1\" class=\"dataframe\">\n",
       "  <thead>\n",
       "    <tr style=\"text-align: right;\">\n",
       "      <th></th>\n",
       "      <th>vetstatd</th>\n",
       "      <th>schltype</th>\n",
       "      <th>school</th>\n",
       "      <th>vetstat</th>\n",
       "      <th>incss</th>\n",
       "      <th>incwelfr</th>\n",
       "      <th>citizen</th>\n",
       "      <th>hhincome</th>\n",
       "      <th>incinvst</th>\n",
       "      <th>mortgag2</th>\n",
       "      <th>mortgage</th>\n",
       "      <th>gradeatt</th>\n",
       "      <th>gradeattd</th>\n",
       "      <th>metro</th>\n",
       "    </tr>\n",
       "  </thead>\n",
       "  <tbody>\n",
       "    <tr>\n",
       "      <td>count</td>\n",
       "      <td>73538.000000</td>\n",
       "      <td>73538.000000</td>\n",
       "      <td>73538.000000</td>\n",
       "      <td>73538.000000</td>\n",
       "      <td>73538.000000</td>\n",
       "      <td>73538.000000</td>\n",
       "      <td>73538.000000</td>\n",
       "      <td>7.353800e+04</td>\n",
       "      <td>73538.000000</td>\n",
       "      <td>73538.000000</td>\n",
       "      <td>73538.000000</td>\n",
       "      <td>73538.000000</td>\n",
       "      <td>73538.000000</td>\n",
       "      <td>73538.000000</td>\n",
       "    </tr>\n",
       "    <tr>\n",
       "      <td>mean</td>\n",
       "      <td>9.296758</td>\n",
       "      <td>1.167682</td>\n",
       "      <td>1.231105</td>\n",
       "      <td>0.856401</td>\n",
       "      <td>21258.885039</td>\n",
       "      <td>19544.282017</td>\n",
       "      <td>0.401656</td>\n",
       "      <td>4.277716e+05</td>\n",
       "      <td>196590.214284</td>\n",
       "      <td>0.684027</td>\n",
       "      <td>1.559493</td>\n",
       "      <td>1.122794</td>\n",
       "      <td>11.558813</td>\n",
       "      <td>3.055835</td>\n",
       "    </tr>\n",
       "    <tr>\n",
       "      <td>std</td>\n",
       "      <td>5.455925</td>\n",
       "      <td>0.801610</td>\n",
       "      <td>0.486031</td>\n",
       "      <td>0.522728</td>\n",
       "      <td>39077.481281</td>\n",
       "      <td>39595.782915</td>\n",
       "      <td>0.929116</td>\n",
       "      <td>1.815460e+06</td>\n",
       "      <td>395610.129425</td>\n",
       "      <td>1.024643</td>\n",
       "      <td>1.390320</td>\n",
       "      <td>2.049489</td>\n",
       "      <td>21.001575</td>\n",
       "      <td>0.827778</td>\n",
       "    </tr>\n",
       "    <tr>\n",
       "      <td>min</td>\n",
       "      <td>0.000000</td>\n",
       "      <td>0.000000</td>\n",
       "      <td>0.000000</td>\n",
       "      <td>0.000000</td>\n",
       "      <td>0.000000</td>\n",
       "      <td>0.000000</td>\n",
       "      <td>0.000000</td>\n",
       "      <td>-1.400000e+04</td>\n",
       "      <td>-10000.000000</td>\n",
       "      <td>0.000000</td>\n",
       "      <td>0.000000</td>\n",
       "      <td>0.000000</td>\n",
       "      <td>0.000000</td>\n",
       "      <td>0.000000</td>\n",
       "    </tr>\n",
       "    <tr>\n",
       "      <td>25%</td>\n",
       "      <td>11.000000</td>\n",
       "      <td>1.000000</td>\n",
       "      <td>1.000000</td>\n",
       "      <td>1.000000</td>\n",
       "      <td>0.000000</td>\n",
       "      <td>0.000000</td>\n",
       "      <td>0.000000</td>\n",
       "      <td>2.670000e+04</td>\n",
       "      <td>0.000000</td>\n",
       "      <td>0.000000</td>\n",
       "      <td>0.000000</td>\n",
       "      <td>0.000000</td>\n",
       "      <td>0.000000</td>\n",
       "      <td>3.000000</td>\n",
       "    </tr>\n",
       "    <tr>\n",
       "      <td>50%</td>\n",
       "      <td>11.000000</td>\n",
       "      <td>1.000000</td>\n",
       "      <td>1.000000</td>\n",
       "      <td>1.000000</td>\n",
       "      <td>0.000000</td>\n",
       "      <td>0.000000</td>\n",
       "      <td>0.000000</td>\n",
       "      <td>5.787200e+04</td>\n",
       "      <td>0.000000</td>\n",
       "      <td>0.000000</td>\n",
       "      <td>1.000000</td>\n",
       "      <td>0.000000</td>\n",
       "      <td>0.000000</td>\n",
       "      <td>3.000000</td>\n",
       "    </tr>\n",
       "    <tr>\n",
       "      <td>75%</td>\n",
       "      <td>11.000000</td>\n",
       "      <td>2.000000</td>\n",
       "      <td>2.000000</td>\n",
       "      <td>1.000000</td>\n",
       "      <td>13379.000000</td>\n",
       "      <td>0.000000</td>\n",
       "      <td>0.000000</td>\n",
       "      <td>1.143935e+05</td>\n",
       "      <td>3000.000000</td>\n",
       "      <td>1.000000</td>\n",
       "      <td>3.000000</td>\n",
       "      <td>1.000000</td>\n",
       "      <td>10.000000</td>\n",
       "      <td>4.000000</td>\n",
       "    </tr>\n",
       "    <tr>\n",
       "      <td>max</td>\n",
       "      <td>22.000000</td>\n",
       "      <td>6.000000</td>\n",
       "      <td>2.000000</td>\n",
       "      <td>2.000000</td>\n",
       "      <td>99999.000000</td>\n",
       "      <td>99999.000000</td>\n",
       "      <td>3.000000</td>\n",
       "      <td>9.999999e+06</td>\n",
       "      <td>999999.000000</td>\n",
       "      <td>5.000000</td>\n",
       "      <td>4.000000</td>\n",
       "      <td>7.000000</td>\n",
       "      <td>74.000000</td>\n",
       "      <td>4.000000</td>\n",
       "    </tr>\n",
       "  </tbody>\n",
       "</table>\n",
       "</div>"
      ],
      "text/plain": [
       "           vetstatd      schltype        school       vetstat         incss  \\\n",
       "count  73538.000000  73538.000000  73538.000000  73538.000000  73538.000000   \n",
       "mean       9.296758      1.167682      1.231105      0.856401  21258.885039   \n",
       "std        5.455925      0.801610      0.486031      0.522728  39077.481281   \n",
       "min        0.000000      0.000000      0.000000      0.000000      0.000000   \n",
       "25%       11.000000      1.000000      1.000000      1.000000      0.000000   \n",
       "50%       11.000000      1.000000      1.000000      1.000000      0.000000   \n",
       "75%       11.000000      2.000000      2.000000      1.000000  13379.000000   \n",
       "max       22.000000      6.000000      2.000000      2.000000  99999.000000   \n",
       "\n",
       "           incwelfr       citizen      hhincome       incinvst      mortgag2  \\\n",
       "count  73538.000000  73538.000000  7.353800e+04   73538.000000  73538.000000   \n",
       "mean   19544.282017      0.401656  4.277716e+05  196590.214284      0.684027   \n",
       "std    39595.782915      0.929116  1.815460e+06  395610.129425      1.024643   \n",
       "min        0.000000      0.000000 -1.400000e+04  -10000.000000      0.000000   \n",
       "25%        0.000000      0.000000  2.670000e+04       0.000000      0.000000   \n",
       "50%        0.000000      0.000000  5.787200e+04       0.000000      0.000000   \n",
       "75%        0.000000      0.000000  1.143935e+05    3000.000000      1.000000   \n",
       "max    99999.000000      3.000000  9.999999e+06  999999.000000      5.000000   \n",
       "\n",
       "           mortgage      gradeatt     gradeattd         metro  \n",
       "count  73538.000000  73538.000000  73538.000000  73538.000000  \n",
       "mean       1.559493      1.122794     11.558813      3.055835  \n",
       "std        1.390320      2.049489     21.001575      0.827778  \n",
       "min        0.000000      0.000000      0.000000      0.000000  \n",
       "25%        0.000000      0.000000      0.000000      3.000000  \n",
       "50%        1.000000      0.000000      0.000000      3.000000  \n",
       "75%        3.000000      1.000000     10.000000      4.000000  \n",
       "max        4.000000      7.000000     74.000000      4.000000  "
      ]
     },
     "execution_count": 4,
     "metadata": {},
     "output_type": "execute_result"
    }
   ],
   "source": [
    "ipumsA.describe()"
   ]
  },
  {
   "cell_type": "markdown",
   "metadata": {},
   "source": [
    "### Fitting an Extra Trees Regressor\n",
    "\n",
    "We fit an `ExtraTreesRegressor` using the Gini index as the response to explore which of the features provided best explain the measured income inequality in a given area. If we know what describes economic prosperity we might be able to use that information when we formulate our metric.\n",
    "\n",
    "In case of future additions and preprocessing steps, I've fitted the regressor in a `Pipeline`. When we call `Pipeline.fit()`, all of the transformations and estimators in the pipeline are fitted sequentially."
   ]
  },
  {
   "cell_type": "code",
   "execution_count": 5,
   "metadata": {},
   "outputs": [],
   "source": [
    "est = [('clf', ExtraTreesRegressor(n_estimators=15))]\n",
    "pl = Pipeline(est)"
   ]
  },
  {
   "cell_type": "code",
   "execution_count": 6,
   "metadata": {},
   "outputs": [
    {
     "data": {
      "text/plain": [
       "Pipeline(memory=None,\n",
       "         steps=[('clf',\n",
       "                 ExtraTreesRegressor(bootstrap=False, criterion='mse',\n",
       "                                     max_depth=None, max_features='auto',\n",
       "                                     max_leaf_nodes=None,\n",
       "                                     min_impurity_decrease=0.0,\n",
       "                                     min_impurity_split=None,\n",
       "                                     min_samples_leaf=1, min_samples_split=2,\n",
       "                                     min_weight_fraction_leaf=0.0,\n",
       "                                     n_estimators=15, n_jobs=None,\n",
       "                                     oob_score=False, random_state=None,\n",
       "                                     verbose=0, warm_start=False))],\n",
       "         verbose=False)"
      ]
     },
     "execution_count": 6,
     "metadata": {},
     "output_type": "execute_result"
    }
   ],
   "source": [
    "cols = ['Income Growth 2000-2006/10',\n",
    "        'State EITC Exposure',\n",
    "        'School Expenditure per Student',\n",
    "        'Labor Force Participation Rate',\n",
    "        'Social Capital Index']\n",
    "\n",
    "# drop NAs on the features of interest\n",
    "czc = czc.dropna(subset=cols)\n",
    "\n",
    "y = czc['Gini']\n",
    "\n",
    "x = czc[cols]\n",
    "\n",
    "pl.fit(x, y)"
   ]
  },
  {
   "cell_type": "markdown",
   "metadata": {},
   "source": [
    "This fit includes *feature importance* measurements out of the box – these describe how much non-mutual information each feature contributed in the `ExtraTrees` ensemble. It also shows which features decreased the impurity the most per split."
   ]
  },
  {
   "cell_type": "code",
   "execution_count": 7,
   "metadata": {},
   "outputs": [
    {
     "data": {
      "image/png": "[encoded data removed]",
      "text/plain": [
       "<Figure size 576x648 with 1 Axes>"
      ]
     },
     "metadata": {
      "needs_background": "light"
     },
     "output_type": "display_data"
    }
   ],
   "source": [
    "fig, ax = plt.subplots(figsize=(8,9))\n",
    "sns.barplot(cols, pl['clf'].feature_importances_,\n",
    "           palette=sns.color_palette(\"husl\", 8),\n",
    "           ax=ax)\n",
    "plt.xticks(rotation=45)\n",
    "fig.autofmt_xdate()\n",
    "plt.title(f\"{str(pl['clf'].base_estimator_).split('(')[0]} Feature Importance\");"
   ]
  },
  {
   "cell_type": "markdown",
   "metadata": {},
   "source": [
    "Next I just wanted to see how correlated SCI and Gini index are."
   ]
  },
  {
   "cell_type": "code",
   "execution_count": 8,
   "metadata": {},
   "outputs": [
    {
     "data": {
      "image/png": "[encoded data removed]",
      "text/plain": [
       "<Figure size 432x288 with 1 Axes>"
      ]
     },
     "metadata": {
      "needs_background": "light"
     },
     "output_type": "display_data"
    }
   ],
   "source": [
    "plt.scatter(czc['Social Capital Index'], czc['Gini']);\n",
    "plt.xlabel('Social Capital Index');\n",
    "plt.ylabel('Gini Index');"
   ]
  },
  {
   "cell_type": "code",
   "execution_count": 9,
   "metadata": {},
   "outputs": [
    {
     "data": {
      "image/png": "[encoded data removed]",
      "text/plain": [
       "<Figure size 432x288 with 1 Axes>"
      ]
     },
     "metadata": {
      "needs_background": "light"
     },
     "output_type": "display_data"
    }
   ],
   "source": [
    "pcdf = pd.read_csv('../project/volume/data/interim/ipums_PCA10.csv')\n",
    "km = KMeans(n_clusters=4)\n",
    "km_labels = km.fit_predict(pcdf)\n",
    "\n",
    "sns.scatterplot(pcdf['PC1'], pcdf['PC2'], hue=km_labels, palette=sns.color_palette(['#e93186', '#e99e48', '#f1c88a', '#834dac']));"
   ]
  },
  {
   "cell_type": "code",
   "execution_count": 10,
   "metadata": {},
   "outputs": [
    {
     "data": {
      "text/plain": [
       "Pipeline(memory=None,\n",
       "         steps=[('clf',\n",
       "                 ExtraTreesClassifier(bootstrap=False, class_weight=None,\n",
       "                                      criterion='gini', max_depth=None,\n",
       "                                      max_features='auto', max_leaf_nodes=None,\n",
       "                                      min_impurity_decrease=0.0,\n",
       "                                      min_impurity_split=None,\n",
       "                                      min_samples_leaf=1, min_samples_split=2,\n",
       "                                      min_weight_fraction_leaf=0.0,\n",
       "                                      n_estimators=80, n_jobs=None,\n",
       "                                      oob_score=False, random_state=None,\n",
       "                                      verbose=0, warm_start=False))],\n",
       "         verbose=False)"
      ]
     },
     "execution_count": 10,
     "metadata": {},
     "output_type": "execute_result"
    }
   ],
   "source": [
    "y = pd.get_dummies(km_labels).to_numpy()\n",
    "pl.set_params(clf=ExtraTreesClassifier(n_estimators=80))\n",
    "pl.fit(ipumsA, y)"
   ]
  },
  {
   "cell_type": "code",
   "execution_count": 11,
   "metadata": {},
   "outputs": [
    {
     "data": {
      "image/png": "[encoded data removed]",
      "text/plain": [
       "<Figure size 576x648 with 1 Axes>"
      ]
     },
     "metadata": {
      "needs_background": "light"
     },
     "output_type": "display_data"
    }
   ],
   "source": [
    "fig, ax = plt.subplots(figsize=(8,9))\n",
    "sns.barplot(ipumsA.columns, pl['clf'].feature_importances_)\n",
    "plt.xticks(rotation=45);\n",
    "fig.autofmt_xdate()\n",
    "plt.suptitle(f\"Feature Importances Derived from {str(pl['clf'].base_estimator_).split('(')[0]}\");\n",
    "plt.title(\"with K-Means Innovation Metric as response, on IPUMS Samples\");\n",
    "plt.ylabel(\"Feature Importance: % Positive Contribution\");\n",
    "plt.xlabel(\"Feature\");"
   ]
  },
  {
   "cell_type": "code",
   "execution_count": null,
   "metadata": {},
   "outputs": [],
   "source": []
  }
 ],
 "metadata": {
  "kernelspec": {
   "display_name": "Python 3",
   "language": "python",
   "name": "python3"
  },
  "language_info": {
   "codemirror_mode": {
    "name": "ipython",
    "version": 3
   },
   "file_extension": ".py",
   "mimetype": "text/x-python",
   "name": "python",
   "nbconvert_exporter": "python",
   "pygments_lexer": "ipython3",
   "version": "3.7.4"
  }
 },
 "nbformat": 4,
 "nbformat_minor": 4
}
