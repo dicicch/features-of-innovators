{
 "cells": [
  {
   "cell_type": "code",
   "execution_count": 1,
   "metadata": {},
   "outputs": [],
   "source": [
    "import sys\n",
    "import os\n",
    "\n",
    "import pandas as pd\n",
    "import numpy as np\n",
    "import warnings\n",
    "import arff\n",
    "\n",
    "import matplotlib.pyplot as plt\n",
    "import seaborn as sns\n",
    "import pandas as pd\n",
    "import numpy as np\n",
    "\n",
    "from scipy import stats\n",
    "\n",
    "from matplotlib import cm\n",
    "\n",
    "from sklearn.preprocessing import StandardScaler, normalize\n",
    "from sklearn.metrics import silhouette_score\n",
    "from sklearn.decomposition import PCA\n",
    "from sklearn.cluster import KMeans\n",
    "\n",
    "from sklearn.model_selection import train_test_split\n",
    "from sklearn.preprocessing import MinMaxScaler\n",
    "from sklearn import decomposition, ensemble\n",
    "from sklearn.naive_bayes import GaussianNB\n",
    "from sklearn.datasets import make_blobs\n",
    "from sklearn.metrics import f1_score\n",
    "from sklearn.cluster import KMeans"
   ]
  },
  {
   "cell_type": "code",
   "execution_count": 2,
   "metadata": {},
   "outputs": [],
   "source": [
    "%matplotlib inline\n",
    "rawpath = \"../project/volume/data/raw/\""
   ]
  },
  {
   "cell_type": "code",
   "execution_count": 3,
   "metadata": {},
   "outputs": [],
   "source": [
    "# Innovation Rates by Childhood CZ \n",
    "table_1 = pd.read_csv(os.path.join(rawpath, \"bell/table_2a.csv\")) "
   ]
  },
  {
   "cell_type": "code",
   "execution_count": 4,
   "metadata": {},
   "outputs": [],
   "source": [
    "# Commuting Zone characteristics \n",
    "czcar= pd.read_csv(os.path.join(rawpath, \"czchar.csv\"),\n",
    "                   skiprows=6,\n",
    "                   header=0) "
   ]
  },
  {
   "cell_type": "code",
   "execution_count": 5,
   "metadata": {},
   "outputs": [
    {
     "data": {
      "text/html": [
       "<div>\n",
       "<style scoped>\n",
       "    .dataframe tbody tr th:only-of-type {\n",
       "        vertical-align: middle;\n",
       "    }\n",
       "\n",
       "    .dataframe tbody tr th {\n",
       "        vertical-align: top;\n",
       "    }\n",
       "\n",
       "    .dataframe thead th {\n",
       "        text-align: right;\n",
       "    }\n",
       "</style>\n",
       "<table border=\"1\" class=\"dataframe\">\n",
       "  <thead>\n",
       "    <tr style=\"text-align: right;\">\n",
       "      <th></th>\n",
       "      <th>cz</th>\n",
       "      <th>iso</th>\n",
       "      <th>urbanareas</th>\n",
       "      <th>localtaxrate</th>\n",
       "      <th>am</th>\n",
       "      <th>pq5q1</th>\n",
       "      <th>pq5q2</th>\n",
       "      <th>schoolexpenditureperstudent</th>\n",
       "      <th>laborforceparticipationrate</th>\n",
       "      <th>manufacturingemploymentshare</th>\n",
       "      <th>...</th>\n",
       "      <th>pop</th>\n",
       "      <th>popgrowth</th>\n",
       "      <th>income</th>\n",
       "      <th>gvt</th>\n",
       "      <th>finance</th>\n",
       "      <th>Cit5_corr_incumbent</th>\n",
       "      <th>Cit5_corr_entrant</th>\n",
       "      <th>lobbying_bartik</th>\n",
       "      <th>lgdppc</th>\n",
       "      <th>patent</th>\n",
       "    </tr>\n",
       "  </thead>\n",
       "  <tbody>\n",
       "    <tr>\n",
       "      <td>0</td>\n",
       "      <td>100.0</td>\n",
       "      <td>TN</td>\n",
       "      <td>1</td>\n",
       "      <td>20.0</td>\n",
       "      <td>38.387501</td>\n",
       "      <td>6.219881</td>\n",
       "      <td>9.68395</td>\n",
       "      <td>5.184547</td>\n",
       "      <td>0.587347</td>\n",
       "      <td>0.237397</td>\n",
       "      <td>...</td>\n",
       "      <td>515673.181818</td>\n",
       "      <td>0.006384</td>\n",
       "      <td>1.325678e+07</td>\n",
       "      <td>0.984492</td>\n",
       "      <td>0.565163</td>\n",
       "      <td>153.933014</td>\n",
       "      <td>23.642666</td>\n",
       "      <td>314216988.0</td>\n",
       "      <td>3.246791</td>\n",
       "      <td>123.246269</td>\n",
       "    </tr>\n",
       "    <tr>\n",
       "      <td>1</td>\n",
       "      <td>200.0</td>\n",
       "      <td>TN</td>\n",
       "      <td>1</td>\n",
       "      <td>23.0</td>\n",
       "      <td>37.776749</td>\n",
       "      <td>5.365194</td>\n",
       "      <td>9.49096</td>\n",
       "      <td>4.505886</td>\n",
       "      <td>0.624974</td>\n",
       "      <td>0.237756</td>\n",
       "      <td>...</td>\n",
       "      <td>238895.090909</td>\n",
       "      <td>0.017123</td>\n",
       "      <td>5.767876e+06</td>\n",
       "      <td>1.013324</td>\n",
       "      <td>0.558196</td>\n",
       "      <td>12.993155</td>\n",
       "      <td>4.007419</td>\n",
       "      <td>156949268.0</td>\n",
       "      <td>3.184035</td>\n",
       "      <td>19.177273</td>\n",
       "    </tr>\n",
       "    <tr>\n",
       "      <td>2</td>\n",
       "      <td>301.0</td>\n",
       "      <td>TN</td>\n",
       "      <td>0</td>\n",
       "      <td>15.0</td>\n",
       "      <td>39.049252</td>\n",
       "      <td>7.263514</td>\n",
       "      <td>10.91633</td>\n",
       "      <td>5.614119</td>\n",
       "      <td>0.478963</td>\n",
       "      <td>0.233531</td>\n",
       "      <td>...</td>\n",
       "      <td>66839.181818</td>\n",
       "      <td>0.001944</td>\n",
       "      <td>1.375117e+06</td>\n",
       "      <td>1.652556</td>\n",
       "      <td>1.330033</td>\n",
       "      <td>0.333361</td>\n",
       "      <td>0.757114</td>\n",
       "      <td>130183232.0</td>\n",
       "      <td>3.024005</td>\n",
       "      <td>0.583333</td>\n",
       "    </tr>\n",
       "    <tr>\n",
       "      <td>3</td>\n",
       "      <td>302.0</td>\n",
       "      <td>TN</td>\n",
       "      <td>1</td>\n",
       "      <td>19.0</td>\n",
       "      <td>37.841251</td>\n",
       "      <td>5.628121</td>\n",
       "      <td>10.38549</td>\n",
       "      <td>4.899846</td>\n",
       "      <td>0.614831</td>\n",
       "      <td>0.145505</td>\n",
       "      <td>...</td>\n",
       "      <td>755240.818182</td>\n",
       "      <td>0.011127</td>\n",
       "      <td>2.207135e+07</td>\n",
       "      <td>0.909186</td>\n",
       "      <td>0.841473</td>\n",
       "      <td>239.755859</td>\n",
       "      <td>43.429382</td>\n",
       "      <td>275959444.0</td>\n",
       "      <td>3.374999</td>\n",
       "      <td>168.095520</td>\n",
       "    </tr>\n",
       "    <tr>\n",
       "      <td>4</td>\n",
       "      <td>401.0</td>\n",
       "      <td>NC</td>\n",
       "      <td>1</td>\n",
       "      <td>18.0</td>\n",
       "      <td>36.969250</td>\n",
       "      <td>4.480079</td>\n",
       "      <td>9.74457</td>\n",
       "      <td>5.462677</td>\n",
       "      <td>0.656087</td>\n",
       "      <td>0.215199</td>\n",
       "      <td>...</td>\n",
       "      <td>511260.090909</td>\n",
       "      <td>0.012112</td>\n",
       "      <td>1.613724e+07</td>\n",
       "      <td>0.876412</td>\n",
       "      <td>0.530351</td>\n",
       "      <td>137.846619</td>\n",
       "      <td>12.469249</td>\n",
       "      <td>152210904.0</td>\n",
       "      <td>3.452007</td>\n",
       "      <td>95.385315</td>\n",
       "    </tr>\n",
       "  </tbody>\n",
       "</table>\n",
       "<p>5 rows × 22 columns</p>\n",
       "</div>"
      ],
      "text/plain": [
       "      cz iso  urbanareas  localtaxrate         am     pq5q1     pq5q2  \\\n",
       "0  100.0  TN           1          20.0  38.387501  6.219881   9.68395   \n",
       "1  200.0  TN           1          23.0  37.776749  5.365194   9.49096   \n",
       "2  301.0  TN           0          15.0  39.049252  7.263514  10.91633   \n",
       "3  302.0  TN           1          19.0  37.841251  5.628121  10.38549   \n",
       "4  401.0  NC           1          18.0  36.969250  4.480079   9.74457   \n",
       "\n",
       "   schoolexpenditureperstudent  laborforceparticipationrate  \\\n",
       "0                     5.184547                     0.587347   \n",
       "1                     4.505886                     0.624974   \n",
       "2                     5.614119                     0.478963   \n",
       "3                     4.899846                     0.614831   \n",
       "4                     5.462677                     0.656087   \n",
       "\n",
       "   manufacturingemploymentshare  ...            pop  popgrowth        income  \\\n",
       "0                      0.237397  ...  515673.181818   0.006384  1.325678e+07   \n",
       "1                      0.237756  ...  238895.090909   0.017123  5.767876e+06   \n",
       "2                      0.233531  ...   66839.181818   0.001944  1.375117e+06   \n",
       "3                      0.145505  ...  755240.818182   0.011127  2.207135e+07   \n",
       "4                      0.215199  ...  511260.090909   0.012112  1.613724e+07   \n",
       "\n",
       "        gvt   finance  Cit5_corr_incumbent  Cit5_corr_entrant  \\\n",
       "0  0.984492  0.565163           153.933014          23.642666   \n",
       "1  1.013324  0.558196            12.993155           4.007419   \n",
       "2  1.652556  1.330033             0.333361           0.757114   \n",
       "3  0.909186  0.841473           239.755859          43.429382   \n",
       "4  0.876412  0.530351           137.846619          12.469249   \n",
       "\n",
       "   lobbying_bartik    lgdppc      patent  \n",
       "0      314216988.0  3.246791  123.246269  \n",
       "1      156949268.0  3.184035   19.177273  \n",
       "2      130183232.0  3.024005    0.583333  \n",
       "3      275959444.0  3.374999  168.095520  \n",
       "4      152210904.0  3.452007   95.385315  \n",
       "\n",
       "[5 rows x 22 columns]"
      ]
     },
     "execution_count": 5,
     "metadata": {},
     "output_type": "execute_result"
    }
   ],
   "source": [
    "dtafile = os.path.join(rawpath, \"CZ_main.dta\")\n",
    "\n",
    "main = pd.read_stata(dtafile)\n",
    "main.head()"
   ]
  },
  {
   "cell_type": "code",
   "execution_count": 6,
   "metadata": {},
   "outputs": [
    {
     "name": "stdout",
     "output_type": "stream",
     "text": [
      "<class 'pandas.core.frame.DataFrame'>\n",
      "Int64Index: 677 entries, 0 to 676\n",
      "Data columns (total 22 columns):\n",
      "cz                              677 non-null float64\n",
      "iso                             677 non-null object\n",
      "urbanareas                      677 non-null int8\n",
      "localtaxrate                    677 non-null float32\n",
      "am                              667 non-null float32\n",
      "pq5q1                           675 non-null float32\n",
      "pq5q2                           675 non-null float32\n",
      "schoolexpenditureperstudent     673 non-null float32\n",
      "laborforceparticipationrate     677 non-null float32\n",
      "manufacturingemploymentshare    677 non-null float32\n",
      "pq5                             675 non-null float32\n",
      "Cit5_corr                       677 non-null float32\n",
      "pop                             676 non-null float64\n",
      "popgrowth                       676 non-null float32\n",
      "income                          676 non-null float64\n",
      "gvt                             676 non-null float32\n",
      "finance                         676 non-null float32\n",
      "Cit5_corr_incumbent             677 non-null float32\n",
      "Cit5_corr_entrant               677 non-null float32\n",
      "lobbying_bartik                 677 non-null float64\n",
      "lgdppc                          676 non-null float32\n",
      "patent                          677 non-null float32\n",
      "dtypes: float32(16), float64(4), int8(1), object(1)\n",
      "memory usage: 74.7+ KB\n"
     ]
    }
   ],
   "source": [
    "main.info()"
   ]
  },
  {
   "cell_type": "code",
   "execution_count": 7,
   "metadata": {},
   "outputs": [],
   "source": [
    "main.rename(columns = {'cz':'CZ'}, inplace = True)"
   ]
  },
  {
   "cell_type": "code",
   "execution_count": 8,
   "metadata": {},
   "outputs": [],
   "source": [
    "part = main[[\"CZ\",\"Cit5_corr\",'Cit5_corr_incumbent',\"patent\",'pop','popgrowth',\n",
    "             'laborforceparticipationrate','Cit5_corr_entrant','lobbying_bartik']]"
   ]
  },
  {
   "cell_type": "code",
   "execution_count": 9,
   "metadata": {},
   "outputs": [],
   "source": [
    "part = part.astype({'CZ':int})"
   ]
  },
  {
   "cell_type": "code",
   "execution_count": 10,
   "metadata": {},
   "outputs": [],
   "source": [
    "czcar= czcar.drop(czcar.index[0])"
   ]
  },
  {
   "cell_type": "code",
   "execution_count": 11,
   "metadata": {},
   "outputs": [
    {
     "name": "stdout",
     "output_type": "stream",
     "text": [
      "<class 'pandas.core.frame.DataFrame'>\n",
      "Int64Index: 741 entries, 1 to 741\n",
      "Data columns (total 41 columns):\n",
      "CZ                                            741 non-null object\n",
      "CZ Name                                       741 non-null object\n",
      "State                                         741 non-null object\n",
      "Census 2000 population                        741 non-null object\n",
      "Urban Areas                                   741 non-null object\n",
      "Frac. Black                                   741 non-null object\n",
      "Racial Segregation                            741 non-null object\n",
      "Income Segregation                            741 non-null object\n",
      "Segregation of Poverty (<p25)                 741 non-null object\n",
      "Segregation of Affluence (>p75)               741 non-null object\n",
      "Frac. with Commute < 15 Mins                  741 non-null object\n",
      "Household Income per capita                   741 non-null object\n",
      "Gini                                          741 non-null object\n",
      "Top 1% Income Share                           709 non-null object\n",
      "Gini Bottom 99%                               709 non-null object\n",
      "Frac. Between p25 and p75                     709 non-null object\n",
      "Local Tax Rate                                740 non-null object\n",
      "Local Government Expenditures Per Capita      739 non-null object\n",
      "State Income Tax Progressivity                741 non-null object\n",
      "State EITC Exposure                           741 non-null object\n",
      "School Expenditure per Student                731 non-null object\n",
      "Teacher Student Ratio                         711 non-null object\n",
      "Test Score Percentile (Income Adjusted        705 non-null object\n",
      "High School Dropout Rate (Income Adjusted)    593 non-null object\n",
      "Number of Colleges per Capita                 584 non-null object\n",
      "College Tuition                               580 non-null object\n",
      "College Graduation Rate (Income Adjusted)     581 non-null object\n",
      "Labor Force Participation Rate                741 non-null object\n",
      "Manufacturing Employment Share                741 non-null object\n",
      "Growth in Chinese Imports 1990-2000           722 non-null object\n",
      "Teenage Labor Force Participation Rate        709 non-null object\n",
      "Migration Inflow Rate                         724 non-null object\n",
      "Migration Outlflow Rate                       724 non-null object\n",
      "Frac. Foreign Born                            741 non-null object\n",
      "Social Capital Index                          722 non-null object\n",
      "Fraction Religious                            741 non-null object\n",
      "Violent Crime Rate                            714 non-null object\n",
      "Fraction of Children with Single Mothers      741 non-null object\n",
      "Fraction of Adults Divorced                   741 non-null object\n",
      "Fraction of Adults Married                    741 non-null object\n",
      "Income Growth 2000-2006/10                    741 non-null object\n",
      "dtypes: object(41)\n",
      "memory usage: 243.1+ KB\n"
     ]
    }
   ],
   "source": [
    "czcar.info()"
   ]
  },
  {
   "cell_type": "code",
   "execution_count": 12,
   "metadata": {
    "scrolled": true
   },
   "outputs": [
    {
     "data": {
      "text/html": [
       "<div>\n",
       "<style scoped>\n",
       "    .dataframe tbody tr th:only-of-type {\n",
       "        vertical-align: middle;\n",
       "    }\n",
       "\n",
       "    .dataframe tbody tr th {\n",
       "        vertical-align: top;\n",
       "    }\n",
       "\n",
       "    .dataframe thead th {\n",
       "        text-align: right;\n",
       "    }\n",
       "</style>\n",
       "<table border=\"1\" class=\"dataframe\">\n",
       "  <thead>\n",
       "    <tr style=\"text-align: right;\">\n",
       "      <th></th>\n",
       "      <th>cz</th>\n",
       "      <th>czname</th>\n",
       "      <th>state</th>\n",
       "      <th>stateabbrv</th>\n",
       "      <th>cohort</th>\n",
       "      <th>age</th>\n",
       "      <th>year</th>\n",
       "      <th>count</th>\n",
       "      <th>applicant</th>\n",
       "      <th>grantee</th>\n",
       "      <th>...</th>\n",
       "      <th>grantee_cat_6</th>\n",
       "      <th>grantee_cat_7</th>\n",
       "      <th>count_g_m</th>\n",
       "      <th>applicant_g_m</th>\n",
       "      <th>grantee_g_m</th>\n",
       "      <th>num_grants_g_m</th>\n",
       "      <th>count_g_f</th>\n",
       "      <th>applicant_g_f</th>\n",
       "      <th>grantee_g_f</th>\n",
       "      <th>num_grants_g_f</th>\n",
       "    </tr>\n",
       "  </thead>\n",
       "  <tbody>\n",
       "    <tr>\n",
       "      <td>0</td>\n",
       "      <td>100</td>\n",
       "      <td>Johnson City</td>\n",
       "      <td>Tennessee</td>\n",
       "      <td>TN</td>\n",
       "      <td>1916</td>\n",
       "      <td>80</td>\n",
       "      <td>1996</td>\n",
       "      <td>820</td>\n",
       "      <td>NaN</td>\n",
       "      <td>0.0</td>\n",
       "      <td>...</td>\n",
       "      <td>0.0</td>\n",
       "      <td>0.0</td>\n",
       "      <td>390.0</td>\n",
       "      <td>NaN</td>\n",
       "      <td>0.0</td>\n",
       "      <td>0.0</td>\n",
       "      <td>430.0</td>\n",
       "      <td>NaN</td>\n",
       "      <td>0.0</td>\n",
       "      <td>0.0</td>\n",
       "    </tr>\n",
       "    <tr>\n",
       "      <td>1</td>\n",
       "      <td>100</td>\n",
       "      <td>Johnson City</td>\n",
       "      <td>Tennessee</td>\n",
       "      <td>TN</td>\n",
       "      <td>1917</td>\n",
       "      <td>79</td>\n",
       "      <td>1996</td>\n",
       "      <td>1070</td>\n",
       "      <td>NaN</td>\n",
       "      <td>0.0</td>\n",
       "      <td>...</td>\n",
       "      <td>0.0</td>\n",
       "      <td>0.0</td>\n",
       "      <td>620.0</td>\n",
       "      <td>NaN</td>\n",
       "      <td>0.0</td>\n",
       "      <td>0.0</td>\n",
       "      <td>450.0</td>\n",
       "      <td>NaN</td>\n",
       "      <td>0.0</td>\n",
       "      <td>0.0</td>\n",
       "    </tr>\n",
       "    <tr>\n",
       "      <td>2</td>\n",
       "      <td>100</td>\n",
       "      <td>Johnson City</td>\n",
       "      <td>Tennessee</td>\n",
       "      <td>TN</td>\n",
       "      <td>1917</td>\n",
       "      <td>80</td>\n",
       "      <td>1997</td>\n",
       "      <td>1040</td>\n",
       "      <td>NaN</td>\n",
       "      <td>0.0</td>\n",
       "      <td>...</td>\n",
       "      <td>0.0</td>\n",
       "      <td>0.0</td>\n",
       "      <td>580.0</td>\n",
       "      <td>NaN</td>\n",
       "      <td>0.0</td>\n",
       "      <td>0.0</td>\n",
       "      <td>460.0</td>\n",
       "      <td>NaN</td>\n",
       "      <td>0.0</td>\n",
       "      <td>0.0</td>\n",
       "    </tr>\n",
       "    <tr>\n",
       "      <td>3</td>\n",
       "      <td>100</td>\n",
       "      <td>Johnson City</td>\n",
       "      <td>Tennessee</td>\n",
       "      <td>TN</td>\n",
       "      <td>1918</td>\n",
       "      <td>78</td>\n",
       "      <td>1996</td>\n",
       "      <td>1240</td>\n",
       "      <td>NaN</td>\n",
       "      <td>0.0</td>\n",
       "      <td>...</td>\n",
       "      <td>0.0</td>\n",
       "      <td>0.0</td>\n",
       "      <td>580.0</td>\n",
       "      <td>NaN</td>\n",
       "      <td>0.0</td>\n",
       "      <td>0.0</td>\n",
       "      <td>660.0</td>\n",
       "      <td>NaN</td>\n",
       "      <td>0.0</td>\n",
       "      <td>0.0</td>\n",
       "    </tr>\n",
       "    <tr>\n",
       "      <td>4</td>\n",
       "      <td>100</td>\n",
       "      <td>Johnson City</td>\n",
       "      <td>Tennessee</td>\n",
       "      <td>TN</td>\n",
       "      <td>1918</td>\n",
       "      <td>79</td>\n",
       "      <td>1997</td>\n",
       "      <td>1110</td>\n",
       "      <td>NaN</td>\n",
       "      <td>0.0</td>\n",
       "      <td>...</td>\n",
       "      <td>0.0</td>\n",
       "      <td>0.0</td>\n",
       "      <td>530.0</td>\n",
       "      <td>NaN</td>\n",
       "      <td>0.0</td>\n",
       "      <td>0.0</td>\n",
       "      <td>580.0</td>\n",
       "      <td>NaN</td>\n",
       "      <td>0.0</td>\n",
       "      <td>0.0</td>\n",
       "    </tr>\n",
       "  </tbody>\n",
       "</table>\n",
       "<p>5 rows × 26 columns</p>\n",
       "</div>"
      ],
      "text/plain": [
       "    cz        czname      state stateabbrv  cohort  age  year  count  \\\n",
       "0  100  Johnson City  Tennessee         TN    1916   80  1996    820   \n",
       "1  100  Johnson City  Tennessee         TN    1917   79  1996   1070   \n",
       "2  100  Johnson City  Tennessee         TN    1917   80  1997   1040   \n",
       "3  100  Johnson City  Tennessee         TN    1918   78  1996   1240   \n",
       "4  100  Johnson City  Tennessee         TN    1918   79  1997   1110   \n",
       "\n",
       "   applicant  grantee  ...  grantee_cat_6  grantee_cat_7  count_g_m  \\\n",
       "0        NaN      0.0  ...            0.0            0.0      390.0   \n",
       "1        NaN      0.0  ...            0.0            0.0      620.0   \n",
       "2        NaN      0.0  ...            0.0            0.0      580.0   \n",
       "3        NaN      0.0  ...            0.0            0.0      580.0   \n",
       "4        NaN      0.0  ...            0.0            0.0      530.0   \n",
       "\n",
       "   applicant_g_m  grantee_g_m  num_grants_g_m  count_g_f  applicant_g_f  \\\n",
       "0            NaN          0.0             0.0      430.0            NaN   \n",
       "1            NaN          0.0             0.0      450.0            NaN   \n",
       "2            NaN          0.0             0.0      460.0            NaN   \n",
       "3            NaN          0.0             0.0      660.0            NaN   \n",
       "4            NaN          0.0             0.0      580.0            NaN   \n",
       "\n",
       "   grantee_g_f  num_grants_g_f  \n",
       "0          0.0             0.0  \n",
       "1          0.0             0.0  \n",
       "2          0.0             0.0  \n",
       "3          0.0             0.0  \n",
       "4          0.0             0.0  \n",
       "\n",
       "[5 rows x 26 columns]"
      ]
     },
     "execution_count": 12,
     "metadata": {},
     "output_type": "execute_result"
    }
   ],
   "source": [
    "table_1.head()"
   ]
  },
  {
   "cell_type": "code",
   "execution_count": 13,
   "metadata": {},
   "outputs": [],
   "source": [
    "Data1 = czcar[[\"CZ\",'Frac. with Commute < 15 Mins']]"
   ]
  },
  {
   "cell_type": "code",
   "execution_count": 14,
   "metadata": {},
   "outputs": [
    {
     "name": "stdout",
     "output_type": "stream",
     "text": [
      "<class 'pandas.core.frame.DataFrame'>\n",
      "Int64Index: 741 entries, 1 to 741\n",
      "Data columns (total 2 columns):\n",
      "CZ                              741 non-null object\n",
      "Frac. with Commute < 15 Mins    741 non-null object\n",
      "dtypes: object(2)\n",
      "memory usage: 17.4+ KB\n"
     ]
    }
   ],
   "source": [
    "Data1.info()"
   ]
  },
  {
   "cell_type": "code",
   "execution_count": 15,
   "metadata": {},
   "outputs": [
    {
     "data": {
      "text/html": [
       "<div>\n",
       "<style scoped>\n",
       "    .dataframe tbody tr th:only-of-type {\n",
       "        vertical-align: middle;\n",
       "    }\n",
       "\n",
       "    .dataframe tbody tr th {\n",
       "        vertical-align: top;\n",
       "    }\n",
       "\n",
       "    .dataframe thead th {\n",
       "        text-align: right;\n",
       "    }\n",
       "</style>\n",
       "<table border=\"1\" class=\"dataframe\">\n",
       "  <thead>\n",
       "    <tr style=\"text-align: right;\">\n",
       "      <th></th>\n",
       "      <th>CZ</th>\n",
       "      <th>Frac. with Commute &lt; 15 Mins</th>\n",
       "    </tr>\n",
       "  </thead>\n",
       "  <tbody>\n",
       "    <tr>\n",
       "      <td>1</td>\n",
       "      <td>100</td>\n",
       "      <td>0.325</td>\n",
       "    </tr>\n",
       "    <tr>\n",
       "      <td>2</td>\n",
       "      <td>200</td>\n",
       "      <td>0.276</td>\n",
       "    </tr>\n",
       "    <tr>\n",
       "      <td>3</td>\n",
       "      <td>301</td>\n",
       "      <td>0.359</td>\n",
       "    </tr>\n",
       "    <tr>\n",
       "      <td>4</td>\n",
       "      <td>302</td>\n",
       "      <td>0.269</td>\n",
       "    </tr>\n",
       "    <tr>\n",
       "      <td>5</td>\n",
       "      <td>401</td>\n",
       "      <td>0.292</td>\n",
       "    </tr>\n",
       "  </tbody>\n",
       "</table>\n",
       "</div>"
      ],
      "text/plain": [
       "    CZ Frac. with Commute < 15 Mins\n",
       "1  100                        0.325\n",
       "2  200                        0.276\n",
       "3  301                        0.359\n",
       "4  302                        0.269\n",
       "5  401                        0.292"
      ]
     },
     "execution_count": 15,
     "metadata": {},
     "output_type": "execute_result"
    }
   ],
   "source": [
    "Data1.head()"
   ]
  },
  {
   "cell_type": "code",
   "execution_count": 16,
   "metadata": {},
   "outputs": [],
   "source": [
    "Data1 = Data1.astype({'CZ':int})"
   ]
  },
  {
   "cell_type": "code",
   "execution_count": 17,
   "metadata": {},
   "outputs": [],
   "source": [
    "Data3=Data1.merge(part,on=['CZ'],\n",
    "                  how='left',\n",
    "                  suffixes=('', '_notnull'))"
   ]
  },
  {
   "cell_type": "code",
   "execution_count": 18,
   "metadata": {},
   "outputs": [
    {
     "name": "stdout",
     "output_type": "stream",
     "text": [
      "<class 'pandas.core.frame.DataFrame'>\n",
      "Int64Index: 741 entries, 0 to 740\n",
      "Data columns (total 10 columns):\n",
      "CZ                              741 non-null int32\n",
      "Frac. with Commute < 15 Mins    741 non-null object\n",
      "Cit5_corr                       677 non-null float32\n",
      "Cit5_corr_incumbent             677 non-null float32\n",
      "patent                          677 non-null float32\n",
      "pop                             676 non-null float64\n",
      "popgrowth                       676 non-null float32\n",
      "laborforceparticipationrate     677 non-null float32\n",
      "Cit5_corr_entrant               677 non-null float32\n",
      "lobbying_bartik                 677 non-null float64\n",
      "dtypes: float32(6), float64(2), int32(1), object(1)\n",
      "memory usage: 43.4+ KB\n"
     ]
    }
   ],
   "source": [
    "Data3.info()"
   ]
  },
  {
   "cell_type": "code",
   "execution_count": 19,
   "metadata": {},
   "outputs": [],
   "source": [
    "df=Data3"
   ]
  },
  {
   "cell_type": "code",
   "execution_count": 20,
   "metadata": {},
   "outputs": [
    {
     "data": {
      "text/html": [
       "<div>\n",
       "<style scoped>\n",
       "    .dataframe tbody tr th:only-of-type {\n",
       "        vertical-align: middle;\n",
       "    }\n",
       "\n",
       "    .dataframe tbody tr th {\n",
       "        vertical-align: top;\n",
       "    }\n",
       "\n",
       "    .dataframe thead th {\n",
       "        text-align: right;\n",
       "    }\n",
       "</style>\n",
       "<table border=\"1\" class=\"dataframe\">\n",
       "  <thead>\n",
       "    <tr style=\"text-align: right;\">\n",
       "      <th></th>\n",
       "      <th>CZ</th>\n",
       "      <th>Frac. with Commute &lt; 15 Mins</th>\n",
       "      <th>Cit5_corr</th>\n",
       "      <th>Cit5_corr_incumbent</th>\n",
       "      <th>patent</th>\n",
       "      <th>pop</th>\n",
       "      <th>popgrowth</th>\n",
       "      <th>laborforceparticipationrate</th>\n",
       "      <th>Cit5_corr_entrant</th>\n",
       "      <th>lobbying_bartik</th>\n",
       "    </tr>\n",
       "  </thead>\n",
       "  <tbody>\n",
       "    <tr>\n",
       "      <td>0</td>\n",
       "      <td>100</td>\n",
       "      <td>0.325</td>\n",
       "      <td>204.289795</td>\n",
       "      <td>153.933014</td>\n",
       "      <td>123.246269</td>\n",
       "      <td>515673.181818</td>\n",
       "      <td>0.006384</td>\n",
       "      <td>0.587347</td>\n",
       "      <td>23.642666</td>\n",
       "      <td>314216988.0</td>\n",
       "    </tr>\n",
       "    <tr>\n",
       "      <td>1</td>\n",
       "      <td>200</td>\n",
       "      <td>0.276</td>\n",
       "      <td>27.449158</td>\n",
       "      <td>12.993155</td>\n",
       "      <td>19.177273</td>\n",
       "      <td>238895.090909</td>\n",
       "      <td>0.017123</td>\n",
       "      <td>0.624974</td>\n",
       "      <td>4.007419</td>\n",
       "      <td>156949268.0</td>\n",
       "    </tr>\n",
       "    <tr>\n",
       "      <td>2</td>\n",
       "      <td>301</td>\n",
       "      <td>0.359</td>\n",
       "      <td>0.844502</td>\n",
       "      <td>0.333361</td>\n",
       "      <td>0.583333</td>\n",
       "      <td>66839.181818</td>\n",
       "      <td>0.001944</td>\n",
       "      <td>0.478963</td>\n",
       "      <td>0.757114</td>\n",
       "      <td>130183232.0</td>\n",
       "    </tr>\n",
       "    <tr>\n",
       "      <td>3</td>\n",
       "      <td>302</td>\n",
       "      <td>0.269</td>\n",
       "      <td>328.072876</td>\n",
       "      <td>239.755859</td>\n",
       "      <td>168.095520</td>\n",
       "      <td>755240.818182</td>\n",
       "      <td>0.011127</td>\n",
       "      <td>0.614831</td>\n",
       "      <td>43.429382</td>\n",
       "      <td>275959444.0</td>\n",
       "    </tr>\n",
       "    <tr>\n",
       "      <td>4</td>\n",
       "      <td>401</td>\n",
       "      <td>0.292</td>\n",
       "      <td>172.762436</td>\n",
       "      <td>137.846619</td>\n",
       "      <td>95.385315</td>\n",
       "      <td>511260.090909</td>\n",
       "      <td>0.012112</td>\n",
       "      <td>0.656087</td>\n",
       "      <td>12.469249</td>\n",
       "      <td>152210904.0</td>\n",
       "    </tr>\n",
       "  </tbody>\n",
       "</table>\n",
       "</div>"
      ],
      "text/plain": [
       "    CZ Frac. with Commute < 15 Mins   Cit5_corr  Cit5_corr_incumbent  \\\n",
       "0  100                        0.325  204.289795           153.933014   \n",
       "1  200                        0.276   27.449158            12.993155   \n",
       "2  301                        0.359    0.844502             0.333361   \n",
       "3  302                        0.269  328.072876           239.755859   \n",
       "4  401                        0.292  172.762436           137.846619   \n",
       "\n",
       "       patent            pop  popgrowth  laborforceparticipationrate  \\\n",
       "0  123.246269  515673.181818   0.006384                     0.587347   \n",
       "1   19.177273  238895.090909   0.017123                     0.624974   \n",
       "2    0.583333   66839.181818   0.001944                     0.478963   \n",
       "3  168.095520  755240.818182   0.011127                     0.614831   \n",
       "4   95.385315  511260.090909   0.012112                     0.656087   \n",
       "\n",
       "   Cit5_corr_entrant  lobbying_bartik  \n",
       "0          23.642666      314216988.0  \n",
       "1           4.007419      156949268.0  \n",
       "2           0.757114      130183232.0  \n",
       "3          43.429382      275959444.0  \n",
       "4          12.469249      152210904.0  "
      ]
     },
     "execution_count": 20,
     "metadata": {},
     "output_type": "execute_result"
    }
   ],
   "source": [
    "df.head()"
   ]
  },
  {
   "cell_type": "code",
   "execution_count": 21,
   "metadata": {},
   "outputs": [
    {
     "name": "stdout",
     "output_type": "stream",
     "text": [
      "<class 'pandas.core.frame.DataFrame'>\n",
      "Int64Index: 741 entries, 0 to 740\n",
      "Data columns (total 10 columns):\n",
      "CZ                              741 non-null int32\n",
      "Frac. with Commute < 15 Mins    741 non-null object\n",
      "Cit5_corr                       677 non-null float32\n",
      "Cit5_corr_incumbent             677 non-null float32\n",
      "patent                          677 non-null float32\n",
      "pop                             676 non-null float64\n",
      "popgrowth                       676 non-null float32\n",
      "laborforceparticipationrate     677 non-null float32\n",
      "Cit5_corr_entrant               677 non-null float32\n",
      "lobbying_bartik                 677 non-null float64\n",
      "dtypes: float32(6), float64(2), int32(1), object(1)\n",
      "memory usage: 43.4+ KB\n"
     ]
    }
   ],
   "source": [
    "df.info()"
   ]
  },
  {
   "cell_type": "code",
   "execution_count": 22,
   "metadata": {},
   "outputs": [],
   "source": [
    "df.dropna(subset=[\"Cit5_corr\"],inplace=True)"
   ]
  },
  {
   "cell_type": "code",
   "execution_count": 23,
   "metadata": {},
   "outputs": [],
   "source": [
    "df = df.fillna(0)"
   ]
  },
  {
   "cell_type": "code",
   "execution_count": 24,
   "metadata": {},
   "outputs": [],
   "source": [
    "df.rename(columns = {'Gini Bottom 99%':'Gini_99',\n",
    "                     'Frac. with Commute < 15 Mins':'Commute_less_15_Mins',\n",
    "                     'Growth in Chinese Imports 1990-2000':'Growth_chinese_imports',\n",
    "                     'Income Growth 2000-2006/10':'Income_growth'}, inplace = True)"
   ]
  },
  {
   "cell_type": "code",
   "execution_count": 25,
   "metadata": {},
   "outputs": [],
   "source": [
    "arff.dump('.arff',\n",
    "          df.values,\n",
    "          names=df.columns)"
   ]
  },
  {
   "cell_type": "code",
   "execution_count": 26,
   "metadata": {},
   "outputs": [],
   "source": [
    "train=df"
   ]
  },
  {
   "cell_type": "code",
   "execution_count": 27,
   "metadata": {},
   "outputs": [],
   "source": [
    "train=train.astype('float64')"
   ]
  },
  {
   "cell_type": "code",
   "execution_count": 28,
   "metadata": {},
   "outputs": [
    {
     "name": "stdout",
     "output_type": "stream",
     "text": [
      "<class 'pandas.core.frame.DataFrame'>\n",
      "Int64Index: 677 entries, 0 to 740\n",
      "Data columns (total 10 columns):\n",
      "CZ                             677 non-null float64\n",
      "Commute_less_15_Mins           677 non-null float64\n",
      "Cit5_corr                      677 non-null float64\n",
      "Cit5_corr_incumbent            677 non-null float64\n",
      "patent                         677 non-null float64\n",
      "pop                            677 non-null float64\n",
      "popgrowth                      677 non-null float64\n",
      "laborforceparticipationrate    677 non-null float64\n",
      "Cit5_corr_entrant              677 non-null float64\n",
      "lobbying_bartik                677 non-null float64\n",
      "dtypes: float64(10)\n",
      "memory usage: 58.2 KB\n"
     ]
    }
   ],
   "source": [
    "train.info()"
   ]
  },
  {
   "cell_type": "code",
   "execution_count": 29,
   "metadata": {},
   "outputs": [],
   "source": [
    "train.dropna(subset = [\"Cit5_corr\"], inplace=True)"
   ]
  },
  {
   "cell_type": "code",
   "execution_count": 30,
   "metadata": {},
   "outputs": [
    {
     "data": {
      "text/html": [
       "<div>\n",
       "<style scoped>\n",
       "    .dataframe tbody tr th:only-of-type {\n",
       "        vertical-align: middle;\n",
       "    }\n",
       "\n",
       "    .dataframe tbody tr th {\n",
       "        vertical-align: top;\n",
       "    }\n",
       "\n",
       "    .dataframe thead th {\n",
       "        text-align: right;\n",
       "    }\n",
       "</style>\n",
       "<table border=\"1\" class=\"dataframe\">\n",
       "  <thead>\n",
       "    <tr style=\"text-align: right;\">\n",
       "      <th></th>\n",
       "      <th>CZ</th>\n",
       "      <th>Commute_less_15_Mins</th>\n",
       "      <th>Cit5_corr</th>\n",
       "      <th>Cit5_corr_incumbent</th>\n",
       "      <th>patent</th>\n",
       "      <th>pop</th>\n",
       "      <th>popgrowth</th>\n",
       "      <th>laborforceparticipationrate</th>\n",
       "      <th>Cit5_corr_entrant</th>\n",
       "      <th>lobbying_bartik</th>\n",
       "    </tr>\n",
       "  </thead>\n",
       "  <tbody>\n",
       "    <tr>\n",
       "      <td>0</td>\n",
       "      <td>100.0</td>\n",
       "      <td>0.325</td>\n",
       "      <td>204.289795</td>\n",
       "      <td>153.933014</td>\n",
       "      <td>123.246269</td>\n",
       "      <td>515673.181818</td>\n",
       "      <td>0.006384</td>\n",
       "      <td>0.587347</td>\n",
       "      <td>23.642666</td>\n",
       "      <td>314216988.0</td>\n",
       "    </tr>\n",
       "    <tr>\n",
       "      <td>1</td>\n",
       "      <td>200.0</td>\n",
       "      <td>0.276</td>\n",
       "      <td>27.449158</td>\n",
       "      <td>12.993155</td>\n",
       "      <td>19.177273</td>\n",
       "      <td>238895.090909</td>\n",
       "      <td>0.017123</td>\n",
       "      <td>0.624974</td>\n",
       "      <td>4.007419</td>\n",
       "      <td>156949268.0</td>\n",
       "    </tr>\n",
       "    <tr>\n",
       "      <td>2</td>\n",
       "      <td>301.0</td>\n",
       "      <td>0.359</td>\n",
       "      <td>0.844502</td>\n",
       "      <td>0.333361</td>\n",
       "      <td>0.583333</td>\n",
       "      <td>66839.181818</td>\n",
       "      <td>0.001944</td>\n",
       "      <td>0.478963</td>\n",
       "      <td>0.757114</td>\n",
       "      <td>130183232.0</td>\n",
       "    </tr>\n",
       "    <tr>\n",
       "      <td>3</td>\n",
       "      <td>302.0</td>\n",
       "      <td>0.269</td>\n",
       "      <td>328.072876</td>\n",
       "      <td>239.755859</td>\n",
       "      <td>168.095520</td>\n",
       "      <td>755240.818182</td>\n",
       "      <td>0.011127</td>\n",
       "      <td>0.614831</td>\n",
       "      <td>43.429382</td>\n",
       "      <td>275959444.0</td>\n",
       "    </tr>\n",
       "    <tr>\n",
       "      <td>4</td>\n",
       "      <td>401.0</td>\n",
       "      <td>0.292</td>\n",
       "      <td>172.762436</td>\n",
       "      <td>137.846619</td>\n",
       "      <td>95.385315</td>\n",
       "      <td>511260.090909</td>\n",
       "      <td>0.012112</td>\n",
       "      <td>0.656087</td>\n",
       "      <td>12.469249</td>\n",
       "      <td>152210904.0</td>\n",
       "    </tr>\n",
       "  </tbody>\n",
       "</table>\n",
       "</div>"
      ],
      "text/plain": [
       "      CZ  Commute_less_15_Mins   Cit5_corr  Cit5_corr_incumbent      patent  \\\n",
       "0  100.0                 0.325  204.289795           153.933014  123.246269   \n",
       "1  200.0                 0.276   27.449158            12.993155   19.177273   \n",
       "2  301.0                 0.359    0.844502             0.333361    0.583333   \n",
       "3  302.0                 0.269  328.072876           239.755859  168.095520   \n",
       "4  401.0                 0.292  172.762436           137.846619   95.385315   \n",
       "\n",
       "             pop  popgrowth  laborforceparticipationrate  Cit5_corr_entrant  \\\n",
       "0  515673.181818   0.006384                     0.587347          23.642666   \n",
       "1  238895.090909   0.017123                     0.624974           4.007419   \n",
       "2   66839.181818   0.001944                     0.478963           0.757114   \n",
       "3  755240.818182   0.011127                     0.614831          43.429382   \n",
       "4  511260.090909   0.012112                     0.656087          12.469249   \n",
       "\n",
       "   lobbying_bartik  \n",
       "0      314216988.0  \n",
       "1      156949268.0  \n",
       "2      130183232.0  \n",
       "3      275959444.0  \n",
       "4      152210904.0  "
      ]
     },
     "execution_count": 30,
     "metadata": {},
     "output_type": "execute_result"
    }
   ],
   "source": [
    "train.head()"
   ]
  },
  {
   "cell_type": "code",
   "execution_count": 31,
   "metadata": {},
   "outputs": [],
   "source": [
    "raw_df=train.drop(columns=['CZ'])"
   ]
  },
  {
   "cell_type": "code",
   "execution_count": 32,
   "metadata": {},
   "outputs": [
    {
     "data": {
      "text/plain": [
       "PCA(copy=True, iterated_power='auto', n_components=None, random_state=None,\n",
       "    svd_solver='auto', tol=0.0, whiten=False)"
      ]
     },
     "execution_count": 32,
     "metadata": {},
     "output_type": "execute_result"
    }
   ],
   "source": [
    "# Standardize data\n",
    "scaler = StandardScaler() \n",
    "scaled_df = scaler.fit_transform(raw_df) \n",
    "  \n",
    "# Normalizing the Data \n",
    "normalized_df = normalize(scaled_df) \n",
    "  \n",
    "# Converting the numpy array into a pandas DataFrame \n",
    "normalized_df = pd.DataFrame(normalized_df) \n",
    "  \n",
    "# Reducing the dimensions of the data \n",
    "pca = PCA() \n",
    "pca.fit(normalized_df)"
   ]
  },
  {
   "cell_type": "code",
   "execution_count": 33,
   "metadata": {},
   "outputs": [
    {
     "data": {
      "text/plain": [
       "array([3.79589984e-01, 2.59157190e-01, 1.90021870e-01, 8.56687780e-02,\n",
       "       7.49759709e-02, 8.00306200e-03, 2.03347095e-03, 5.19077232e-04,\n",
       "       3.05970908e-05])"
      ]
     },
     "execution_count": 33,
     "metadata": {},
     "output_type": "execute_result"
    }
   ],
   "source": [
    "pca.explained_variance_ratio_"
   ]
  },
  {
   "cell_type": "code",
   "execution_count": 34,
   "metadata": {},
   "outputs": [
    {
     "data": {
      "image/png": "[encoded data removed]",
      "text/plain": [
       "<Figure size 720x576 with 1 Axes>"
      ]
     },
     "metadata": {
      "needs_background": "light"
     },
     "output_type": "display_data"
    }
   ],
   "source": [
    "plt.figure(figsize=(10,8))\n",
    "plt.plot(range(1,10),pca.explained_variance_ratio_.cumsum(),marker ='o',linestyle ='--');\n",
    "plt.title('K-Means with PCA clustering');"
   ]
  },
  {
   "cell_type": "code",
   "execution_count": 35,
   "metadata": {},
   "outputs": [
    {
     "data": {
      "text/plain": [
       "array([[ 0.76704481, -0.24203884,  0.61076107],\n",
       "       [ 0.84996544, -0.02796428, -0.45515543],\n",
       "       [ 0.00804425, -0.94547383,  0.04599718],\n",
       "       ...,\n",
       "       [ 0.1932931 ,  0.38131609, -0.88318509],\n",
       "       [-0.19401424, -0.68263622, -0.51633415],\n",
       "       [ 0.4800259 ,  0.28559956,  0.25900078]])"
      ]
     },
     "execution_count": 35,
     "metadata": {},
     "output_type": "execute_result"
    }
   ],
   "source": [
    "# Reducing the dimensions of the data \n",
    "pca = PCA(n_components = 3) \n",
    "pca.fit_transform(normalized_df)"
   ]
  },
  {
   "cell_type": "code",
   "execution_count": 36,
   "metadata": {},
   "outputs": [],
   "source": [
    "scores_pca = pca.transform(normalized_df)"
   ]
  },
  {
   "cell_type": "code",
   "execution_count": 37,
   "metadata": {},
   "outputs": [],
   "source": [
    "wcss = []\n",
    "for k in range(1, 21):\n",
    "    kmeans_pca = KMeans(n_clusters=k, init='k-means++',random_state = 42)\n",
    "    kmeans_pca.fit(scores_pca)\n",
    "    wcss.append(kmeans_pca.inertia_)"
   ]
  },
  {
   "cell_type": "code",
   "execution_count": 38,
   "metadata": {},
   "outputs": [
    {
     "data": {
      "image/png": "[encoded data removed]",
      "text/plain": [
       "<Figure size 720x576 with 1 Axes>"
      ]
     },
     "metadata": {
      "needs_background": "light"
     },
     "output_type": "display_data"
    }
   ],
   "source": [
    "plt.figure(figsize=(10,8))\n",
    "plt.plot(range(1,21),wcss,marker ='o',linestyle ='--')\n",
    "plt.title('K-Means with PCA clustering');"
   ]
  },
  {
   "cell_type": "code",
   "execution_count": 39,
   "metadata": {},
   "outputs": [
    {
     "data": {
      "image/png": "[encoded data removed]",
      "text/plain": [
       "<Figure size 432x288 with 1 Axes>"
      ]
     },
     "metadata": {
      "needs_background": "light"
     },
     "output_type": "display_data"
    }
   ],
   "source": [
    "silhouette_scores = []\n",
    "\n",
    "k = list(range(2,10))\n",
    "\n",
    "for n_cluster in k:\n",
    "    silhouette_scores.append(\n",
    "        silhouette_score(scores_pca,\n",
    "                         KMeans(n_clusters = n_cluster,\n",
    "                                init='k-means++').fit_predict(scores_pca)\n",
    "                        )\n",
    "    )\n",
    "    \n",
    "# Plotting a bar graph to compare the results\n",
    "plt.bar(k, silhouette_scores)\n",
    "plt.xlabel('Number of clusters', fontsize = 10);\n",
    "plt.ylabel('Silhouette Score', fontsize = 10);\n",
    "plt.show()"
   ]
  },
  {
   "cell_type": "code",
   "execution_count": 40,
   "metadata": {},
   "outputs": [
    {
     "data": {
      "text/plain": [
       "KMeans(algorithm='auto', copy_x=True, init='k-means++', max_iter=300,\n",
       "       n_clusters=4, n_init=10, n_jobs=None, precompute_distances='auto',\n",
       "       random_state=42, tol=0.0001, verbose=0)"
      ]
     },
     "execution_count": 40,
     "metadata": {},
     "output_type": "execute_result"
    }
   ],
   "source": [
    "n_clust = k[np.argmax(silhouette_scores)]\n",
    "kmeans_pca = KMeans(n_clusters=n_clust, init='k-means++',random_state = 42)\n",
    "kmeans_pca.fit(scores_pca)"
   ]
  },
  {
   "cell_type": "code",
   "execution_count": 41,
   "metadata": {},
   "outputs": [
    {
     "data": {
      "text/plain": [
       "array([3, 0, 2, 3, 0, 2, 3, 0, 2, 0, 0, 3, 0, 0, 0, 0, 0, 0, 0, 2, 3, 3,\n",
       "       0, 0, 3, 2, 0, 3, 3, 2, 2, 0, 3, 3, 2, 3, 2, 0, 2, 3, 2, 2, 2, 2,\n",
       "       2, 3, 2, 3, 2, 3, 3, 3, 2, 3, 2, 2, 2, 2, 3, 1, 2, 2, 0, 2, 2, 2,\n",
       "       2, 2, 2, 2, 0, 2, 0, 3, 2, 2, 3, 2, 0, 3, 0, 3, 0, 0, 3, 0, 2, 2,\n",
       "       0, 0, 3, 2, 0, 0, 3, 3, 0, 2, 3, 0, 0, 0, 0, 0, 3, 2, 2, 0, 0, 3,\n",
       "       2, 0, 3, 3, 2, 2, 2, 3, 2, 0, 0, 0, 0, 3, 2, 2, 2, 3, 0, 0, 2, 0,\n",
       "       2, 3, 3, 2, 0, 3, 0, 2, 2, 2, 2, 0, 2, 2, 2, 2, 3, 2, 2, 0, 3, 2,\n",
       "       0, 2, 2, 2, 2, 0, 3, 2, 3, 1, 1, 2, 0, 3, 3, 2, 3, 0, 2, 3, 3, 0,\n",
       "       0, 2, 2, 3, 0, 1, 3, 2, 3, 3, 0, 0, 0, 3, 0, 0, 3, 1, 1, 3, 1, 3,\n",
       "       0, 1, 1, 3, 3, 3, 0, 3, 3, 3, 3, 1, 1, 0, 3, 0, 3, 3, 3, 2, 2, 2,\n",
       "       2, 3, 3, 2, 2, 3, 2, 3, 3, 2, 2, 2, 2, 2, 2, 2, 2, 3, 0, 2, 0, 2,\n",
       "       0, 0, 3, 2, 2, 3, 3, 1, 1, 1, 2, 2, 3, 2, 3, 2, 0, 3, 3, 3, 3, 0,\n",
       "       3, 3, 0, 0, 0, 2, 3, 2, 3, 3, 1, 3, 3, 1, 1, 3, 3, 1, 3, 3, 1, 1,\n",
       "       2, 2, 1, 1, 0, 1, 1, 1, 1, 0, 3, 0, 0, 0, 1, 1, 1, 1, 1, 1, 0, 0,\n",
       "       3, 1, 3, 0, 1, 3, 3, 3, 1, 3, 1, 1, 1, 0, 3, 1, 1, 3, 1, 3, 3, 3,\n",
       "       0, 3, 3, 0, 2, 3, 1, 1, 3, 3, 3, 2, 2, 2, 2, 2, 3, 2, 3, 1, 3, 3,\n",
       "       2, 3, 2, 2, 0, 1, 1, 1, 1, 1, 1, 1, 1, 1, 1, 3, 1, 1, 1, 1, 1, 1,\n",
       "       1, 1, 1, 1, 1, 1, 1, 1, 0, 1, 1, 1, 0, 1, 1, 1, 0, 1, 1, 1, 1, 1,\n",
       "       1, 1, 1, 1, 1, 1, 1, 1, 1, 1, 1, 1, 1, 1, 1, 1, 3, 1, 1, 1, 3, 1,\n",
       "       1, 1, 1, 1, 1, 1, 1, 1, 3, 1, 3, 1, 1, 3, 1, 1, 1, 1, 1, 0, 1, 2,\n",
       "       2, 1, 1, 1, 1, 1, 2, 0, 0, 1, 0, 3, 1, 1, 1, 1, 1, 1, 1, 1, 1, 1,\n",
       "       1, 3, 3, 1, 1, 1, 1, 3, 0, 3, 3, 2, 1, 1, 3, 0, 3, 0, 3, 2, 2, 3,\n",
       "       2, 0, 1, 3, 2, 1, 1, 0, 2, 2, 2, 2, 0, 1, 1, 0, 2, 1, 1, 1, 1, 1,\n",
       "       1, 1, 1, 3, 2, 2, 3, 0, 3, 2, 2, 1, 3, 2, 1, 1, 2, 0, 0, 3, 0, 0,\n",
       "       3, 2, 2, 2, 1, 2, 2, 1, 2, 2, 1, 2, 3, 2, 1, 2, 1, 2, 1, 0, 2, 0,\n",
       "       3, 3, 3, 3, 3, 3, 1, 1, 2, 1, 2, 3, 2, 0, 2, 2, 0, 1, 1, 1, 1, 1,\n",
       "       0, 1, 1, 1, 1, 1, 1, 1, 1, 1, 0, 1, 1, 0, 0, 1, 0, 2, 0, 0, 0, 1,\n",
       "       0, 0, 1, 2, 0, 1, 0, 2, 0, 2, 0, 0, 1, 0, 0, 1, 2, 0, 0, 1, 0, 2,\n",
       "       0, 0, 1, 1, 1, 1, 0, 3, 0, 3, 1, 0, 0, 0, 1, 0, 2, 1, 2, 1, 0, 2,\n",
       "       2, 0, 0, 0, 0, 3, 3, 1, 1, 0, 0, 3, 0, 1, 1, 3, 2, 0, 3, 1, 1, 0,\n",
       "       0, 3, 2, 2, 3, 1, 3, 2, 0, 0, 1, 0, 1, 0, 0, 2, 3])"
      ]
     },
     "execution_count": 41,
     "metadata": {},
     "output_type": "execute_result"
    }
   ],
   "source": [
    "category=kmeans_pca.labels_\n",
    "category"
   ]
  },
  {
   "cell_type": "code",
   "execution_count": 77,
   "metadata": {},
   "outputs": [
    {
     "data": {
      "image/png": "[encoded data removed]",
      "text/plain": [
       "<Figure size 864x720 with 1 Axes>"
      ]
     },
     "metadata": {
      "needs_background": "light"
     },
     "output_type": "display_data"
    }
   ],
   "source": [
    "fig, ax = plt.subplots(figsize=(12,10))\n",
    "sns.scatterplot(raw_df.Commute_less_15_Mins,\n",
    "                raw_df.patent,\n",
    "                hue=category, alpha=0.5)\n",
    "plt.suptitle(\"Commuting Time vs. Patent Count\");\n",
    "plt.title(\"Clustered with K-Means\");\n",
    "#plt.legend(scatters, [\"II0\", \"II1\", \"II2\", \"II3\"])"
   ]
  },
  {
   "cell_type": "code",
   "execution_count": 43,
   "metadata": {},
   "outputs": [],
   "source": [
    "raw_df[\"label\"]=category"
   ]
  },
  {
   "cell_type": "code",
   "execution_count": 44,
   "metadata": {},
   "outputs": [
    {
     "data": {
      "text/html": [
       "<div>\n",
       "<style scoped>\n",
       "    .dataframe tbody tr th:only-of-type {\n",
       "        vertical-align: middle;\n",
       "    }\n",
       "\n",
       "    .dataframe tbody tr th {\n",
       "        vertical-align: top;\n",
       "    }\n",
       "\n",
       "    .dataframe thead th {\n",
       "        text-align: right;\n",
       "    }\n",
       "</style>\n",
       "<table border=\"1\" class=\"dataframe\">\n",
       "  <thead>\n",
       "    <tr style=\"text-align: right;\">\n",
       "      <th></th>\n",
       "      <th>Commute_less_15_Mins</th>\n",
       "      <th>Cit5_corr</th>\n",
       "      <th>Cit5_corr_incumbent</th>\n",
       "      <th>patent</th>\n",
       "      <th>pop</th>\n",
       "      <th>popgrowth</th>\n",
       "      <th>laborforceparticipationrate</th>\n",
       "      <th>Cit5_corr_entrant</th>\n",
       "      <th>lobbying_bartik</th>\n",
       "      <th>label</th>\n",
       "    </tr>\n",
       "  </thead>\n",
       "  <tbody>\n",
       "    <tr>\n",
       "      <td>0</td>\n",
       "      <td>0.325</td>\n",
       "      <td>204.289795</td>\n",
       "      <td>153.933014</td>\n",
       "      <td>123.246269</td>\n",
       "      <td>515673.181818</td>\n",
       "      <td>0.006384</td>\n",
       "      <td>0.587347</td>\n",
       "      <td>23.642666</td>\n",
       "      <td>314216988.0</td>\n",
       "      <td>3</td>\n",
       "    </tr>\n",
       "    <tr>\n",
       "      <td>1</td>\n",
       "      <td>0.276</td>\n",
       "      <td>27.449158</td>\n",
       "      <td>12.993155</td>\n",
       "      <td>19.177273</td>\n",
       "      <td>238895.090909</td>\n",
       "      <td>0.017123</td>\n",
       "      <td>0.624974</td>\n",
       "      <td>4.007419</td>\n",
       "      <td>156949268.0</td>\n",
       "      <td>0</td>\n",
       "    </tr>\n",
       "    <tr>\n",
       "      <td>2</td>\n",
       "      <td>0.359</td>\n",
       "      <td>0.844502</td>\n",
       "      <td>0.333361</td>\n",
       "      <td>0.583333</td>\n",
       "      <td>66839.181818</td>\n",
       "      <td>0.001944</td>\n",
       "      <td>0.478963</td>\n",
       "      <td>0.757114</td>\n",
       "      <td>130183232.0</td>\n",
       "      <td>2</td>\n",
       "    </tr>\n",
       "    <tr>\n",
       "      <td>3</td>\n",
       "      <td>0.269</td>\n",
       "      <td>328.072876</td>\n",
       "      <td>239.755859</td>\n",
       "      <td>168.095520</td>\n",
       "      <td>755240.818182</td>\n",
       "      <td>0.011127</td>\n",
       "      <td>0.614831</td>\n",
       "      <td>43.429382</td>\n",
       "      <td>275959444.0</td>\n",
       "      <td>3</td>\n",
       "    </tr>\n",
       "    <tr>\n",
       "      <td>4</td>\n",
       "      <td>0.292</td>\n",
       "      <td>172.762436</td>\n",
       "      <td>137.846619</td>\n",
       "      <td>95.385315</td>\n",
       "      <td>511260.090909</td>\n",
       "      <td>0.012112</td>\n",
       "      <td>0.656087</td>\n",
       "      <td>12.469249</td>\n",
       "      <td>152210904.0</td>\n",
       "      <td>0</td>\n",
       "    </tr>\n",
       "  </tbody>\n",
       "</table>\n",
       "</div>"
      ],
      "text/plain": [
       "   Commute_less_15_Mins   Cit5_corr  Cit5_corr_incumbent      patent  \\\n",
       "0                 0.325  204.289795           153.933014  123.246269   \n",
       "1                 0.276   27.449158            12.993155   19.177273   \n",
       "2                 0.359    0.844502             0.333361    0.583333   \n",
       "3                 0.269  328.072876           239.755859  168.095520   \n",
       "4                 0.292  172.762436           137.846619   95.385315   \n",
       "\n",
       "             pop  popgrowth  laborforceparticipationrate  Cit5_corr_entrant  \\\n",
       "0  515673.181818   0.006384                     0.587347          23.642666   \n",
       "1  238895.090909   0.017123                     0.624974           4.007419   \n",
       "2   66839.181818   0.001944                     0.478963           0.757114   \n",
       "3  755240.818182   0.011127                     0.614831          43.429382   \n",
       "4  511260.090909   0.012112                     0.656087          12.469249   \n",
       "\n",
       "   lobbying_bartik  label  \n",
       "0      314216988.0      3  \n",
       "1      156949268.0      0  \n",
       "2      130183232.0      2  \n",
       "3      275959444.0      3  \n",
       "4      152210904.0      0  "
      ]
     },
     "execution_count": 44,
     "metadata": {},
     "output_type": "execute_result"
    }
   ],
   "source": [
    "raw_df.head()"
   ]
  },
  {
   "cell_type": "code",
   "execution_count": 45,
   "metadata": {},
   "outputs": [
    {
     "data": {
      "text/html": [
       "<div>\n",
       "<style scoped>\n",
       "    .dataframe tbody tr th:only-of-type {\n",
       "        vertical-align: middle;\n",
       "    }\n",
       "\n",
       "    .dataframe tbody tr th {\n",
       "        vertical-align: top;\n",
       "    }\n",
       "\n",
       "    .dataframe thead th {\n",
       "        text-align: right;\n",
       "    }\n",
       "</style>\n",
       "<table border=\"1\" class=\"dataframe\">\n",
       "  <thead>\n",
       "    <tr style=\"text-align: right;\">\n",
       "      <th></th>\n",
       "      <th>label</th>\n",
       "      <th>patent</th>\n",
       "      <th>Cit5_corr</th>\n",
       "      <th>lobbying_bartik</th>\n",
       "      <th>laborforceparticipationrate</th>\n",
       "      <th>Commute_less_15_Mins</th>\n",
       "      <th>pop</th>\n",
       "      <th>popgrowth</th>\n",
       "    </tr>\n",
       "  </thead>\n",
       "  <tbody>\n",
       "    <tr>\n",
       "      <td>3</td>\n",
       "      <td>3</td>\n",
       "      <td>530.007874</td>\n",
       "      <td>1301.372191</td>\n",
       "      <td>2.824351e+08</td>\n",
       "      <td>0.646912</td>\n",
       "      <td>0.332810</td>\n",
       "      <td>1.298502e+06</td>\n",
       "      <td>0.007812</td>\n",
       "    </tr>\n",
       "    <tr>\n",
       "      <td>0</td>\n",
       "      <td>0</td>\n",
       "      <td>78.582177</td>\n",
       "      <td>178.044207</td>\n",
       "      <td>1.250841e+08</td>\n",
       "      <td>0.633825</td>\n",
       "      <td>0.376523</td>\n",
       "      <td>3.325950e+05</td>\n",
       "      <td>0.015608</td>\n",
       "    </tr>\n",
       "    <tr>\n",
       "      <td>2</td>\n",
       "      <td>2</td>\n",
       "      <td>8.175781</td>\n",
       "      <td>13.449665</td>\n",
       "      <td>1.323011e+08</td>\n",
       "      <td>0.547346</td>\n",
       "      <td>0.416043</td>\n",
       "      <td>1.180650e+05</td>\n",
       "      <td>0.002388</td>\n",
       "    </tr>\n",
       "    <tr>\n",
       "      <td>1</td>\n",
       "      <td>1</td>\n",
       "      <td>6.807128</td>\n",
       "      <td>13.622087</td>\n",
       "      <td>9.766630e+07</td>\n",
       "      <td>0.637656</td>\n",
       "      <td>0.583941</td>\n",
       "      <td>5.441615e+04</td>\n",
       "      <td>-0.001958</td>\n",
       "    </tr>\n",
       "  </tbody>\n",
       "</table>\n",
       "</div>"
      ],
      "text/plain": [
       "   label      patent    Cit5_corr  lobbying_bartik  \\\n",
       "3      3  530.007874  1301.372191     2.824351e+08   \n",
       "0      0   78.582177   178.044207     1.250841e+08   \n",
       "2      2    8.175781    13.449665     1.323011e+08   \n",
       "1      1    6.807128    13.622087     9.766630e+07   \n",
       "\n",
       "   laborforceparticipationrate  Commute_less_15_Mins           pop  popgrowth  \n",
       "3                     0.646912              0.332810  1.298502e+06   0.007812  \n",
       "0                     0.633825              0.376523  3.325950e+05   0.015608  \n",
       "2                     0.547346              0.416043  1.180650e+05   0.002388  \n",
       "1                     0.637656              0.583941  5.441615e+04  -0.001958  "
      ]
     },
     "execution_count": 45,
     "metadata": {},
     "output_type": "execute_result"
    }
   ],
   "source": [
    "f=raw_df[['patent', 'Cit5_corr', 'lobbying_bartik',\n",
    "          'laborforceparticipationrate',\n",
    "          'Commute_less_15_Mins', 'pop','popgrowth',\n",
    "          'label']].groupby([\"label\"],\n",
    "                            as_index=False).mean()\n",
    "\n",
    "f.sort_values('patent', ascending=False)"
   ]
  },
  {
   "cell_type": "code",
   "execution_count": 46,
   "metadata": {},
   "outputs": [
    {
     "data": {
      "image/png": "[encoded data removed]",
      "text/plain": [
       "<Figure size 432x288 with 1 Axes>"
      ]
     },
     "metadata": {
      "needs_background": "light"
     },
     "output_type": "display_data"
    }
   ],
   "source": [
    "sns.boxplot(x='label', y='Commute_less_15_Mins', data=raw_df);"
   ]
  },
  {
   "cell_type": "code",
   "execution_count": 47,
   "metadata": {},
   "outputs": [
    {
     "data": {
      "image/png": "[encoded data removed]",
      "text/plain": [
       "<Figure size 864x720 with 1 Axes>"
      ]
     },
     "metadata": {
      "needs_background": "light"
     },
     "output_type": "display_data"
    }
   ],
   "source": [
    "fig, ax = plt.subplots(figsize=(12,10))\n",
    "raw_df.boxplot(column='Commute_less_15_Mins', by='label', ax=ax);\n",
    "#plt.title('');"
   ]
  },
  {
   "cell_type": "code",
   "execution_count": 48,
   "metadata": {},
   "outputs": [
    {
     "data": {
      "text/html": [
       "<div>\n",
       "<style scoped>\n",
       "    .dataframe tbody tr th:only-of-type {\n",
       "        vertical-align: middle;\n",
       "    }\n",
       "\n",
       "    .dataframe tbody tr th {\n",
       "        vertical-align: top;\n",
       "    }\n",
       "\n",
       "    .dataframe thead th {\n",
       "        text-align: right;\n",
       "    }\n",
       "</style>\n",
       "<table border=\"1\" class=\"dataframe\">\n",
       "  <thead>\n",
       "    <tr style=\"text-align: right;\">\n",
       "      <th></th>\n",
       "      <th>label</th>\n",
       "      <th>Commute_less_15_Mins</th>\n",
       "      <th>Cit5_corr</th>\n",
       "      <th>Cit5_corr_incumbent</th>\n",
       "      <th>patent</th>\n",
       "      <th>pop</th>\n",
       "      <th>popgrowth</th>\n",
       "      <th>laborforceparticipationrate</th>\n",
       "      <th>Cit5_corr_entrant</th>\n",
       "      <th>lobbying_bartik</th>\n",
       "    </tr>\n",
       "  </thead>\n",
       "  <tbody>\n",
       "    <tr>\n",
       "      <td>3</td>\n",
       "      <td>3</td>\n",
       "      <td>0.332810</td>\n",
       "      <td>1301.372191</td>\n",
       "      <td>959.968973</td>\n",
       "      <td>530.007874</td>\n",
       "      <td>1.298502e+06</td>\n",
       "      <td>0.007812</td>\n",
       "      <td>0.646912</td>\n",
       "      <td>143.698531</td>\n",
       "      <td>2.824351e+08</td>\n",
       "    </tr>\n",
       "    <tr>\n",
       "      <td>0</td>\n",
       "      <td>0</td>\n",
       "      <td>0.376523</td>\n",
       "      <td>178.044207</td>\n",
       "      <td>135.003902</td>\n",
       "      <td>78.582177</td>\n",
       "      <td>3.325950e+05</td>\n",
       "      <td>0.015608</td>\n",
       "      <td>0.633825</td>\n",
       "      <td>17.395357</td>\n",
       "      <td>1.250841e+08</td>\n",
       "    </tr>\n",
       "    <tr>\n",
       "      <td>2</td>\n",
       "      <td>2</td>\n",
       "      <td>0.416043</td>\n",
       "      <td>13.449665</td>\n",
       "      <td>8.603906</td>\n",
       "      <td>8.175781</td>\n",
       "      <td>1.180650e+05</td>\n",
       "      <td>0.002388</td>\n",
       "      <td>0.547346</td>\n",
       "      <td>2.345296</td>\n",
       "      <td>1.323011e+08</td>\n",
       "    </tr>\n",
       "    <tr>\n",
       "      <td>1</td>\n",
       "      <td>1</td>\n",
       "      <td>0.583941</td>\n",
       "      <td>13.622087</td>\n",
       "      <td>11.221435</td>\n",
       "      <td>6.807128</td>\n",
       "      <td>5.441615e+04</td>\n",
       "      <td>-0.001958</td>\n",
       "      <td>0.637656</td>\n",
       "      <td>1.746467</td>\n",
       "      <td>9.766630e+07</td>\n",
       "    </tr>\n",
       "  </tbody>\n",
       "</table>\n",
       "</div>"
      ],
      "text/plain": [
       "   label  Commute_less_15_Mins    Cit5_corr  Cit5_corr_incumbent      patent  \\\n",
       "3      3              0.332810  1301.372191           959.968973  530.007874   \n",
       "0      0              0.376523   178.044207           135.003902   78.582177   \n",
       "2      2              0.416043    13.449665             8.603906    8.175781   \n",
       "1      1              0.583941    13.622087            11.221435    6.807128   \n",
       "\n",
       "            pop  popgrowth  laborforceparticipationrate  Cit5_corr_entrant  \\\n",
       "3  1.298502e+06   0.007812                     0.646912         143.698531   \n",
       "0  3.325950e+05   0.015608                     0.633825          17.395357   \n",
       "2  1.180650e+05   0.002388                     0.547346           2.345296   \n",
       "1  5.441615e+04  -0.001958                     0.637656           1.746467   \n",
       "\n",
       "   lobbying_bartik  \n",
       "3     2.824351e+08  \n",
       "0     1.250841e+08  \n",
       "2     1.323011e+08  \n",
       "1     9.766630e+07  "
      ]
     },
     "execution_count": 48,
     "metadata": {},
     "output_type": "execute_result"
    }
   ],
   "source": [
    "g=raw_df.groupby([\"label\"], as_index=False).mean()\n",
    "g.sort_values('patent', ascending=False)"
   ]
  },
  {
   "cell_type": "code",
   "execution_count": 49,
   "metadata": {},
   "outputs": [],
   "source": [
    "train[\"label\"]=category"
   ]
  },
  {
   "cell_type": "code",
   "execution_count": 50,
   "metadata": {},
   "outputs": [],
   "source": [
    "train_3=train[train.label == 3]"
   ]
  },
  {
   "cell_type": "code",
   "execution_count": 51,
   "metadata": {},
   "outputs": [
    {
     "data": {
      "text/html": [
       "<div>\n",
       "<style scoped>\n",
       "    .dataframe tbody tr th:only-of-type {\n",
       "        vertical-align: middle;\n",
       "    }\n",
       "\n",
       "    .dataframe tbody tr th {\n",
       "        vertical-align: top;\n",
       "    }\n",
       "\n",
       "    .dataframe thead th {\n",
       "        text-align: right;\n",
       "    }\n",
       "</style>\n",
       "<table border=\"1\" class=\"dataframe\">\n",
       "  <thead>\n",
       "    <tr style=\"text-align: right;\">\n",
       "      <th></th>\n",
       "      <th>CZ</th>\n",
       "      <th>Commute_less_15_Mins</th>\n",
       "      <th>Cit5_corr</th>\n",
       "      <th>Cit5_corr_incumbent</th>\n",
       "      <th>patent</th>\n",
       "      <th>pop</th>\n",
       "      <th>popgrowth</th>\n",
       "      <th>laborforceparticipationrate</th>\n",
       "      <th>Cit5_corr_entrant</th>\n",
       "      <th>lobbying_bartik</th>\n",
       "      <th>label</th>\n",
       "    </tr>\n",
       "  </thead>\n",
       "  <tbody>\n",
       "    <tr>\n",
       "      <td>0</td>\n",
       "      <td>100.0</td>\n",
       "      <td>0.325</td>\n",
       "      <td>204.289795</td>\n",
       "      <td>153.933014</td>\n",
       "      <td>123.246269</td>\n",
       "      <td>5.156732e+05</td>\n",
       "      <td>0.006384</td>\n",
       "      <td>0.587347</td>\n",
       "      <td>23.642666</td>\n",
       "      <td>314216988.0</td>\n",
       "      <td>3</td>\n",
       "    </tr>\n",
       "    <tr>\n",
       "      <td>3</td>\n",
       "      <td>302.0</td>\n",
       "      <td>0.269</td>\n",
       "      <td>328.072876</td>\n",
       "      <td>239.755859</td>\n",
       "      <td>168.095520</td>\n",
       "      <td>7.552408e+05</td>\n",
       "      <td>0.011127</td>\n",
       "      <td>0.614831</td>\n",
       "      <td>43.429382</td>\n",
       "      <td>275959444.0</td>\n",
       "      <td>3</td>\n",
       "    </tr>\n",
       "    <tr>\n",
       "      <td>6</td>\n",
       "      <td>500.0</td>\n",
       "      <td>0.305</td>\n",
       "      <td>320.718445</td>\n",
       "      <td>234.921234</td>\n",
       "      <td>163.259766</td>\n",
       "      <td>9.791536e+05</td>\n",
       "      <td>0.013241</td>\n",
       "      <td>0.665945</td>\n",
       "      <td>36.247326</td>\n",
       "      <td>200898578.0</td>\n",
       "      <td>3</td>\n",
       "    </tr>\n",
       "    <tr>\n",
       "      <td>11</td>\n",
       "      <td>900.0</td>\n",
       "      <td>0.241</td>\n",
       "      <td>452.079102</td>\n",
       "      <td>291.500366</td>\n",
       "      <td>254.078812</td>\n",
       "      <td>1.555225e+06</td>\n",
       "      <td>0.028807</td>\n",
       "      <td>0.696022</td>\n",
       "      <td>70.180588</td>\n",
       "      <td>288613380.0</td>\n",
       "      <td>3</td>\n",
       "    </tr>\n",
       "    <tr>\n",
       "      <td>20</td>\n",
       "      <td>1302.0</td>\n",
       "      <td>0.327</td>\n",
       "      <td>84.826973</td>\n",
       "      <td>67.406601</td>\n",
       "      <td>52.151619</td>\n",
       "      <td>5.751769e+05</td>\n",
       "      <td>0.015912</td>\n",
       "      <td>0.614527</td>\n",
       "      <td>2.939733</td>\n",
       "      <td>249492674.0</td>\n",
       "      <td>3</td>\n",
       "    </tr>\n",
       "  </tbody>\n",
       "</table>\n",
       "</div>"
      ],
      "text/plain": [
       "        CZ  Commute_less_15_Mins   Cit5_corr  Cit5_corr_incumbent      patent  \\\n",
       "0    100.0                 0.325  204.289795           153.933014  123.246269   \n",
       "3    302.0                 0.269  328.072876           239.755859  168.095520   \n",
       "6    500.0                 0.305  320.718445           234.921234  163.259766   \n",
       "11   900.0                 0.241  452.079102           291.500366  254.078812   \n",
       "20  1302.0                 0.327   84.826973            67.406601   52.151619   \n",
       "\n",
       "             pop  popgrowth  laborforceparticipationrate  Cit5_corr_entrant  \\\n",
       "0   5.156732e+05   0.006384                     0.587347          23.642666   \n",
       "3   7.552408e+05   0.011127                     0.614831          43.429382   \n",
       "6   9.791536e+05   0.013241                     0.665945          36.247326   \n",
       "11  1.555225e+06   0.028807                     0.696022          70.180588   \n",
       "20  5.751769e+05   0.015912                     0.614527           2.939733   \n",
       "\n",
       "    lobbying_bartik  label  \n",
       "0       314216988.0      3  \n",
       "3       275959444.0      3  \n",
       "6       200898578.0      3  \n",
       "11      288613380.0      3  \n",
       "20      249492674.0      3  "
      ]
     },
     "execution_count": 51,
     "metadata": {},
     "output_type": "execute_result"
    }
   ],
   "source": [
    "train_3.head()"
   ]
  },
  {
   "cell_type": "code",
   "execution_count": 52,
   "metadata": {},
   "outputs": [],
   "source": [
    "czcar_name = czcar[[\"CZ\",'CZ Name']]\n",
    "czcar_name = czcar_name.astype({'CZ':int})"
   ]
  },
  {
   "cell_type": "code",
   "execution_count": 53,
   "metadata": {},
   "outputs": [],
   "source": [
    "train_3_z=train_3.merge(czcar_name,on=['CZ'], how='left',suffixes=('', '_notnull'))"
   ]
  },
  {
   "cell_type": "code",
   "execution_count": 54,
   "metadata": {},
   "outputs": [],
   "source": [
    "train_top=train_3_z[train_3_z.patent>530.007874]"
   ]
  },
  {
   "cell_type": "code",
   "execution_count": 55,
   "metadata": {},
   "outputs": [
    {
     "data": {
      "text/html": [
       "<div>\n",
       "<style scoped>\n",
       "    .dataframe tbody tr th:only-of-type {\n",
       "        vertical-align: middle;\n",
       "    }\n",
       "\n",
       "    .dataframe tbody tr th {\n",
       "        vertical-align: top;\n",
       "    }\n",
       "\n",
       "    .dataframe thead th {\n",
       "        text-align: right;\n",
       "    }\n",
       "</style>\n",
       "<table border=\"1\" class=\"dataframe\">\n",
       "  <thead>\n",
       "    <tr style=\"text-align: right;\">\n",
       "      <th></th>\n",
       "      <th>CZ</th>\n",
       "      <th>Commute_less_15_Mins</th>\n",
       "      <th>Cit5_corr</th>\n",
       "      <th>Cit5_corr_incumbent</th>\n",
       "      <th>patent</th>\n",
       "      <th>pop</th>\n",
       "      <th>popgrowth</th>\n",
       "      <th>laborforceparticipationrate</th>\n",
       "      <th>Cit5_corr_entrant</th>\n",
       "      <th>lobbying_bartik</th>\n",
       "      <th>label</th>\n",
       "      <th>CZ Name</th>\n",
       "    </tr>\n",
       "  </thead>\n",
       "  <tbody>\n",
       "    <tr>\n",
       "      <td>6</td>\n",
       "      <td>1701.0</td>\n",
       "      <td>0.250</td>\n",
       "      <td>3400.780029</td>\n",
       "      <td>2504.281982</td>\n",
       "      <td>1425.043335</td>\n",
       "      <td>1.545003e+06</td>\n",
       "      <td>0.029327</td>\n",
       "      <td>0.694439</td>\n",
       "      <td>300.106537</td>\n",
       "      <td>375793620.0</td>\n",
       "      <td>3</td>\n",
       "      <td>Raleigh</td>\n",
       "    </tr>\n",
       "    <tr>\n",
       "      <td>28</td>\n",
       "      <td>7000.0</td>\n",
       "      <td>0.198</td>\n",
       "      <td>1484.309570</td>\n",
       "      <td>821.033264</td>\n",
       "      <td>582.006104</td>\n",
       "      <td>4.086674e+06</td>\n",
       "      <td>0.010803</td>\n",
       "      <td>0.597902</td>\n",
       "      <td>242.976868</td>\n",
       "      <td>122473228.0</td>\n",
       "      <td>3</td>\n",
       "      <td>Miami</td>\n",
       "    </tr>\n",
       "    <tr>\n",
       "      <td>35</td>\n",
       "      <td>9100.0</td>\n",
       "      <td>0.178</td>\n",
       "      <td>2987.438477</td>\n",
       "      <td>2125.151855</td>\n",
       "      <td>1338.059326</td>\n",
       "      <td>4.082826e+06</td>\n",
       "      <td>0.025995</td>\n",
       "      <td>0.709158</td>\n",
       "      <td>439.400299</td>\n",
       "      <td>621125283.0</td>\n",
       "      <td>3</td>\n",
       "      <td>Atlanta</td>\n",
       "    </tr>\n",
       "    <tr>\n",
       "      <td>41</td>\n",
       "      <td>11302.0</td>\n",
       "      <td>0.199</td>\n",
       "      <td>1431.462769</td>\n",
       "      <td>936.053284</td>\n",
       "      <td>686.801453</td>\n",
       "      <td>2.564954e+06</td>\n",
       "      <td>0.005633</td>\n",
       "      <td>0.663486</td>\n",
       "      <td>210.660782</td>\n",
       "      <td>267634756.0</td>\n",
       "      <td>3</td>\n",
       "      <td>Baltimore</td>\n",
       "    </tr>\n",
       "    <tr>\n",
       "      <td>42</td>\n",
       "      <td>11304.0</td>\n",
       "      <td>0.160</td>\n",
       "      <td>3563.491699</td>\n",
       "      <td>1825.623047</td>\n",
       "      <td>1488.676270</td>\n",
       "      <td>3.458400e+06</td>\n",
       "      <td>0.013580</td>\n",
       "      <td>0.713648</td>\n",
       "      <td>712.264221</td>\n",
       "      <td>566375060.0</td>\n",
       "      <td>3</td>\n",
       "      <td>Washington DC</td>\n",
       "    </tr>\n",
       "  </tbody>\n",
       "</table>\n",
       "</div>"
      ],
      "text/plain": [
       "         CZ  Commute_less_15_Mins    Cit5_corr  Cit5_corr_incumbent  \\\n",
       "6    1701.0                 0.250  3400.780029          2504.281982   \n",
       "28   7000.0                 0.198  1484.309570           821.033264   \n",
       "35   9100.0                 0.178  2987.438477          2125.151855   \n",
       "41  11302.0                 0.199  1431.462769           936.053284   \n",
       "42  11304.0                 0.160  3563.491699          1825.623047   \n",
       "\n",
       "         patent           pop  popgrowth  laborforceparticipationrate  \\\n",
       "6   1425.043335  1.545003e+06   0.029327                     0.694439   \n",
       "28   582.006104  4.086674e+06   0.010803                     0.597902   \n",
       "35  1338.059326  4.082826e+06   0.025995                     0.709158   \n",
       "41   686.801453  2.564954e+06   0.005633                     0.663486   \n",
       "42  1488.676270  3.458400e+06   0.013580                     0.713648   \n",
       "\n",
       "    Cit5_corr_entrant  lobbying_bartik  label        CZ Name  \n",
       "6          300.106537      375793620.0      3        Raleigh  \n",
       "28         242.976868      122473228.0      3          Miami  \n",
       "35         439.400299      621125283.0      3        Atlanta  \n",
       "41         210.660782      267634756.0      3      Baltimore  \n",
       "42         712.264221      566375060.0      3  Washington DC  "
      ]
     },
     "execution_count": 55,
     "metadata": {},
     "output_type": "execute_result"
    }
   ],
   "source": [
    "train_top.head()"
   ]
  },
  {
   "cell_type": "code",
   "execution_count": 56,
   "metadata": {},
   "outputs": [],
   "source": [
    "np.seterr(divide='ignore', invalid='ignore')\n",
    "z_scores = stats.zscore(train_3)\n",
    "\n",
    "abs_z_scores = np.abs(z_scores)\n",
    "filtered_entries = (abs_z_scores < 3).all(axis=1)\n",
    "new_df = train_3[filtered_entries]"
   ]
  },
  {
   "cell_type": "code",
   "execution_count": 57,
   "metadata": {},
   "outputs": [
    {
     "data": {
      "text/plain": [
       "False"
      ]
     },
     "execution_count": 57,
     "metadata": {},
     "output_type": "execute_result"
    }
   ],
   "source": [
    "any(filtered_entries)"
   ]
  },
  {
   "cell_type": "code",
   "execution_count": 58,
   "metadata": {},
   "outputs": [
    {
     "data": {
      "text/html": [
       "<div>\n",
       "<style scoped>\n",
       "    .dataframe tbody tr th:only-of-type {\n",
       "        vertical-align: middle;\n",
       "    }\n",
       "\n",
       "    .dataframe tbody tr th {\n",
       "        vertical-align: top;\n",
       "    }\n",
       "\n",
       "    .dataframe thead th {\n",
       "        text-align: right;\n",
       "    }\n",
       "</style>\n",
       "<table border=\"1\" class=\"dataframe\">\n",
       "  <thead>\n",
       "    <tr style=\"text-align: right;\">\n",
       "      <th></th>\n",
       "      <th>CZ</th>\n",
       "      <th>Commute_less_15_Mins</th>\n",
       "      <th>Cit5_corr</th>\n",
       "      <th>Cit5_corr_incumbent</th>\n",
       "      <th>patent</th>\n",
       "      <th>pop</th>\n",
       "      <th>popgrowth</th>\n",
       "      <th>laborforceparticipationrate</th>\n",
       "      <th>Cit5_corr_entrant</th>\n",
       "      <th>lobbying_bartik</th>\n",
       "      <th>label</th>\n",
       "    </tr>\n",
       "  </thead>\n",
       "  <tbody>\n",
       "  </tbody>\n",
       "</table>\n",
       "</div>"
      ],
      "text/plain": [
       "Empty DataFrame\n",
       "Columns: [CZ, Commute_less_15_Mins, Cit5_corr, Cit5_corr_incumbent, patent, pop, popgrowth, laborforceparticipationrate, Cit5_corr_entrant, lobbying_bartik, label]\n",
       "Index: []"
      ]
     },
     "execution_count": 58,
     "metadata": {},
     "output_type": "execute_result"
    }
   ],
   "source": [
    "new_df"
   ]
  },
  {
   "cell_type": "code",
   "execution_count": 59,
   "metadata": {},
   "outputs": [
    {
     "data": {
      "text/html": [
       "<div>\n",
       "<style scoped>\n",
       "    .dataframe tbody tr th:only-of-type {\n",
       "        vertical-align: middle;\n",
       "    }\n",
       "\n",
       "    .dataframe tbody tr th {\n",
       "        vertical-align: top;\n",
       "    }\n",
       "\n",
       "    .dataframe thead th {\n",
       "        text-align: right;\n",
       "    }\n",
       "</style>\n",
       "<table border=\"1\" class=\"dataframe\">\n",
       "  <thead>\n",
       "    <tr style=\"text-align: right;\">\n",
       "      <th></th>\n",
       "      <th>CZ</th>\n",
       "      <th>Commute_less_15_Mins</th>\n",
       "      <th>Cit5_corr</th>\n",
       "      <th>Cit5_corr_incumbent</th>\n",
       "      <th>patent</th>\n",
       "      <th>pop</th>\n",
       "      <th>popgrowth</th>\n",
       "      <th>laborforceparticipationrate</th>\n",
       "      <th>Cit5_corr_entrant</th>\n",
       "      <th>lobbying_bartik</th>\n",
       "      <th>label</th>\n",
       "    </tr>\n",
       "  </thead>\n",
       "  <tbody>\n",
       "    <tr>\n",
       "      <td>0</td>\n",
       "      <td>100.0</td>\n",
       "      <td>0.325</td>\n",
       "      <td>204.289795</td>\n",
       "      <td>153.933014</td>\n",
       "      <td>123.246269</td>\n",
       "      <td>5.156732e+05</td>\n",
       "      <td>0.006384</td>\n",
       "      <td>0.587347</td>\n",
       "      <td>23.642666</td>\n",
       "      <td>314216988.0</td>\n",
       "      <td>3</td>\n",
       "    </tr>\n",
       "    <tr>\n",
       "      <td>3</td>\n",
       "      <td>302.0</td>\n",
       "      <td>0.269</td>\n",
       "      <td>328.072876</td>\n",
       "      <td>239.755859</td>\n",
       "      <td>168.095520</td>\n",
       "      <td>7.552408e+05</td>\n",
       "      <td>0.011127</td>\n",
       "      <td>0.614831</td>\n",
       "      <td>43.429382</td>\n",
       "      <td>275959444.0</td>\n",
       "      <td>3</td>\n",
       "    </tr>\n",
       "    <tr>\n",
       "      <td>6</td>\n",
       "      <td>500.0</td>\n",
       "      <td>0.305</td>\n",
       "      <td>320.718445</td>\n",
       "      <td>234.921234</td>\n",
       "      <td>163.259766</td>\n",
       "      <td>9.791536e+05</td>\n",
       "      <td>0.013241</td>\n",
       "      <td>0.665945</td>\n",
       "      <td>36.247326</td>\n",
       "      <td>200898578.0</td>\n",
       "      <td>3</td>\n",
       "    </tr>\n",
       "    <tr>\n",
       "      <td>11</td>\n",
       "      <td>900.0</td>\n",
       "      <td>0.241</td>\n",
       "      <td>452.079102</td>\n",
       "      <td>291.500366</td>\n",
       "      <td>254.078812</td>\n",
       "      <td>1.555225e+06</td>\n",
       "      <td>0.028807</td>\n",
       "      <td>0.696022</td>\n",
       "      <td>70.180588</td>\n",
       "      <td>288613380.0</td>\n",
       "      <td>3</td>\n",
       "    </tr>\n",
       "    <tr>\n",
       "      <td>20</td>\n",
       "      <td>1302.0</td>\n",
       "      <td>0.327</td>\n",
       "      <td>84.826973</td>\n",
       "      <td>67.406601</td>\n",
       "      <td>52.151619</td>\n",
       "      <td>5.751769e+05</td>\n",
       "      <td>0.015912</td>\n",
       "      <td>0.614527</td>\n",
       "      <td>2.939733</td>\n",
       "      <td>249492674.0</td>\n",
       "      <td>3</td>\n",
       "    </tr>\n",
       "  </tbody>\n",
       "</table>\n",
       "</div>"
      ],
      "text/plain": [
       "        CZ  Commute_less_15_Mins   Cit5_corr  Cit5_corr_incumbent      patent  \\\n",
       "0    100.0                 0.325  204.289795           153.933014  123.246269   \n",
       "3    302.0                 0.269  328.072876           239.755859  168.095520   \n",
       "6    500.0                 0.305  320.718445           234.921234  163.259766   \n",
       "11   900.0                 0.241  452.079102           291.500366  254.078812   \n",
       "20  1302.0                 0.327   84.826973            67.406601   52.151619   \n",
       "\n",
       "             pop  popgrowth  laborforceparticipationrate  Cit5_corr_entrant  \\\n",
       "0   5.156732e+05   0.006384                     0.587347          23.642666   \n",
       "3   7.552408e+05   0.011127                     0.614831          43.429382   \n",
       "6   9.791536e+05   0.013241                     0.665945          36.247326   \n",
       "11  1.555225e+06   0.028807                     0.696022          70.180588   \n",
       "20  5.751769e+05   0.015912                     0.614527           2.939733   \n",
       "\n",
       "    lobbying_bartik  label  \n",
       "0       314216988.0      3  \n",
       "3       275959444.0      3  \n",
       "6       200898578.0      3  \n",
       "11      288613380.0      3  \n",
       "20      249492674.0      3  "
      ]
     },
     "execution_count": 59,
     "metadata": {},
     "output_type": "execute_result"
    }
   ],
   "source": [
    "train_3.head()"
   ]
  },
  {
   "cell_type": "code",
   "execution_count": 60,
   "metadata": {},
   "outputs": [],
   "source": [
    "new_df=new_df.merge(czcar_name,on=['CZ'], how='left',suffixes=('', '_notnull'))"
   ]
  },
  {
   "cell_type": "code",
   "execution_count": 61,
   "metadata": {},
   "outputs": [],
   "source": [
    "dfObj = pd.DataFrame(train_3, index=[287, 596, 726])"
   ]
  },
  {
   "cell_type": "code",
   "execution_count": 62,
   "metadata": {},
   "outputs": [
    {
     "data": {
      "text/html": [
       "<div>\n",
       "<style scoped>\n",
       "    .dataframe tbody tr th:only-of-type {\n",
       "        vertical-align: middle;\n",
       "    }\n",
       "\n",
       "    .dataframe tbody tr th {\n",
       "        vertical-align: top;\n",
       "    }\n",
       "\n",
       "    .dataframe thead th {\n",
       "        text-align: right;\n",
       "    }\n",
       "</style>\n",
       "<table border=\"1\" class=\"dataframe\">\n",
       "  <thead>\n",
       "    <tr style=\"text-align: right;\">\n",
       "      <th></th>\n",
       "      <th>CZ</th>\n",
       "      <th>Commute_less_15_Mins</th>\n",
       "      <th>Cit5_corr</th>\n",
       "      <th>Cit5_corr_incumbent</th>\n",
       "      <th>patent</th>\n",
       "      <th>pop</th>\n",
       "      <th>popgrowth</th>\n",
       "      <th>laborforceparticipationrate</th>\n",
       "      <th>Cit5_corr_entrant</th>\n",
       "      <th>lobbying_bartik</th>\n",
       "      <th>label</th>\n",
       "    </tr>\n",
       "  </thead>\n",
       "  <tbody>\n",
       "    <tr>\n",
       "      <td>287</td>\n",
       "      <td>20901.0</td>\n",
       "      <td>0.308</td>\n",
       "      <td>4344.312500</td>\n",
       "      <td>3262.227295</td>\n",
       "      <td>1827.115112</td>\n",
       "      <td>3.466619e+06</td>\n",
       "      <td>0.005191</td>\n",
       "      <td>0.665576</td>\n",
       "      <td>401.569000</td>\n",
       "      <td>362641792.0</td>\n",
       "      <td>3</td>\n",
       "    </tr>\n",
       "    <tr>\n",
       "      <td>596</td>\n",
       "      <td>33100.0</td>\n",
       "      <td>0.218</td>\n",
       "      <td>4312.817871</td>\n",
       "      <td>2815.076416</td>\n",
       "      <td>1793.126709</td>\n",
       "      <td>3.644297e+06</td>\n",
       "      <td>0.023319</td>\n",
       "      <td>0.699188</td>\n",
       "      <td>497.141510</td>\n",
       "      <td>276682586.0</td>\n",
       "      <td>3</td>\n",
       "    </tr>\n",
       "    <tr>\n",
       "      <td>726</td>\n",
       "      <td>38801.0</td>\n",
       "      <td>0.258</td>\n",
       "      <td>4398.890625</td>\n",
       "      <td>3811.076904</td>\n",
       "      <td>1674.297119</td>\n",
       "      <td>1.932147e+06</td>\n",
       "      <td>0.015137</td>\n",
       "      <td>0.694289</td>\n",
       "      <td>261.878326</td>\n",
       "      <td>208019555.0</td>\n",
       "      <td>3</td>\n",
       "    </tr>\n",
       "  </tbody>\n",
       "</table>\n",
       "</div>"
      ],
      "text/plain": [
       "          CZ  Commute_less_15_Mins    Cit5_corr  Cit5_corr_incumbent  \\\n",
       "287  20901.0                 0.308  4344.312500          3262.227295   \n",
       "596  33100.0                 0.218  4312.817871          2815.076416   \n",
       "726  38801.0                 0.258  4398.890625          3811.076904   \n",
       "\n",
       "          patent           pop  popgrowth  laborforceparticipationrate  \\\n",
       "287  1827.115112  3.466619e+06   0.005191                     0.665576   \n",
       "596  1793.126709  3.644297e+06   0.023319                     0.699188   \n",
       "726  1674.297119  1.932147e+06   0.015137                     0.694289   \n",
       "\n",
       "     Cit5_corr_entrant  lobbying_bartik  label  \n",
       "287         401.569000      362641792.0      3  \n",
       "596         497.141510      276682586.0      3  \n",
       "726         261.878326      208019555.0      3  "
      ]
     },
     "execution_count": 62,
     "metadata": {},
     "output_type": "execute_result"
    }
   ],
   "source": [
    "dfObj"
   ]
  },
  {
   "cell_type": "code",
   "execution_count": 63,
   "metadata": {},
   "outputs": [],
   "source": [
    "what=main[main.CZ == 38801]"
   ]
  },
  {
   "cell_type": "code",
   "execution_count": 64,
   "metadata": {},
   "outputs": [],
   "source": [
    "what_2=czcar_name[czcar_name.CZ == 38801]"
   ]
  },
  {
   "cell_type": "code",
   "execution_count": 65,
   "metadata": {},
   "outputs": [
    {
     "data": {
      "text/html": [
       "<div>\n",
       "<style scoped>\n",
       "    .dataframe tbody tr th:only-of-type {\n",
       "        vertical-align: middle;\n",
       "    }\n",
       "\n",
       "    .dataframe tbody tr th {\n",
       "        vertical-align: top;\n",
       "    }\n",
       "\n",
       "    .dataframe thead th {\n",
       "        text-align: right;\n",
       "    }\n",
       "</style>\n",
       "<table border=\"1\" class=\"dataframe\">\n",
       "  <thead>\n",
       "    <tr style=\"text-align: right;\">\n",
       "      <th></th>\n",
       "      <th>CZ</th>\n",
       "      <th>iso</th>\n",
       "      <th>urbanareas</th>\n",
       "      <th>localtaxrate</th>\n",
       "      <th>am</th>\n",
       "      <th>pq5q1</th>\n",
       "      <th>pq5q2</th>\n",
       "      <th>schoolexpenditureperstudent</th>\n",
       "      <th>laborforceparticipationrate</th>\n",
       "      <th>manufacturingemploymentshare</th>\n",
       "      <th>...</th>\n",
       "      <th>pop</th>\n",
       "      <th>popgrowth</th>\n",
       "      <th>income</th>\n",
       "      <th>gvt</th>\n",
       "      <th>finance</th>\n",
       "      <th>Cit5_corr_incumbent</th>\n",
       "      <th>Cit5_corr_entrant</th>\n",
       "      <th>lobbying_bartik</th>\n",
       "      <th>lgdppc</th>\n",
       "      <th>patent</th>\n",
       "    </tr>\n",
       "  </thead>\n",
       "  <tbody>\n",
       "    <tr>\n",
       "      <td>664</td>\n",
       "      <td>38801.0</td>\n",
       "      <td>OR</td>\n",
       "      <td>1</td>\n",
       "      <td>31.0</td>\n",
       "      <td>41.282249</td>\n",
       "      <td>9.305854</td>\n",
       "      <td>12.86814</td>\n",
       "      <td>6.704373</td>\n",
       "      <td>0.694289</td>\n",
       "      <td>0.155428</td>\n",
       "      <td>...</td>\n",
       "      <td>1.932147e+06</td>\n",
       "      <td>0.015137</td>\n",
       "      <td>6.787473e+07</td>\n",
       "      <td>0.941911</td>\n",
       "      <td>0.528781</td>\n",
       "      <td>3811.076904</td>\n",
       "      <td>261.878326</td>\n",
       "      <td>208019555.0</td>\n",
       "      <td>3.559032</td>\n",
       "      <td>1674.297119</td>\n",
       "    </tr>\n",
       "  </tbody>\n",
       "</table>\n",
       "<p>1 rows × 22 columns</p>\n",
       "</div>"
      ],
      "text/plain": [
       "          CZ iso  urbanareas  localtaxrate         am     pq5q1     pq5q2  \\\n",
       "664  38801.0  OR           1          31.0  41.282249  9.305854  12.86814   \n",
       "\n",
       "     schoolexpenditureperstudent  laborforceparticipationrate  \\\n",
       "664                     6.704373                     0.694289   \n",
       "\n",
       "     manufacturingemploymentshare  ...           pop  popgrowth        income  \\\n",
       "664                      0.155428  ...  1.932147e+06   0.015137  6.787473e+07   \n",
       "\n",
       "          gvt   finance  Cit5_corr_incumbent  Cit5_corr_entrant  \\\n",
       "664  0.941911  0.528781          3811.076904         261.878326   \n",
       "\n",
       "     lobbying_bartik    lgdppc       patent  \n",
       "664      208019555.0  3.559032  1674.297119  \n",
       "\n",
       "[1 rows x 22 columns]"
      ]
     },
     "execution_count": 65,
     "metadata": {},
     "output_type": "execute_result"
    }
   ],
   "source": [
    "what"
   ]
  },
  {
   "cell_type": "code",
   "execution_count": 66,
   "metadata": {},
   "outputs": [
    {
     "data": {
      "text/html": [
       "<div>\n",
       "<style scoped>\n",
       "    .dataframe tbody tr th:only-of-type {\n",
       "        vertical-align: middle;\n",
       "    }\n",
       "\n",
       "    .dataframe tbody tr th {\n",
       "        vertical-align: top;\n",
       "    }\n",
       "\n",
       "    .dataframe thead th {\n",
       "        text-align: right;\n",
       "    }\n",
       "</style>\n",
       "<table border=\"1\" class=\"dataframe\">\n",
       "  <thead>\n",
       "    <tr style=\"text-align: right;\">\n",
       "      <th></th>\n",
       "      <th>CZ</th>\n",
       "      <th>CZ Name</th>\n",
       "    </tr>\n",
       "  </thead>\n",
       "  <tbody>\n",
       "    <tr>\n",
       "      <td>727</td>\n",
       "      <td>38801</td>\n",
       "      <td>Portland</td>\n",
       "    </tr>\n",
       "  </tbody>\n",
       "</table>\n",
       "</div>"
      ],
      "text/plain": [
       "        CZ   CZ Name\n",
       "727  38801  Portland"
      ]
     },
     "execution_count": 66,
     "metadata": {},
     "output_type": "execute_result"
    }
   ],
   "source": [
    "what_2"
   ]
  },
  {
   "cell_type": "code",
   "execution_count": 67,
   "metadata": {},
   "outputs": [
    {
     "data": {
      "text/plain": [
       "((677, 9), (677,))"
      ]
     },
     "execution_count": 67,
     "metadata": {},
     "output_type": "execute_result"
    }
   ],
   "source": [
    "X_train = raw_df.drop([\"label\"], axis=1)\n",
    "Y_train = raw_df[\"label\"]\n",
    "X_train.shape, Y_train.shape"
   ]
  },
  {
   "cell_type": "code",
   "execution_count": 68,
   "metadata": {},
   "outputs": [],
   "source": [
    "arff.dump('predict.arff',\n",
    "          raw_df.values,\n",
    "          names=raw_df.columns)"
   ]
  }
 ],
 "metadata": {
  "kernelspec": {
   "display_name": "Python 3",
   "language": "python",
   "name": "python3"
  },
  "language_info": {
   "codemirror_mode": {
    "name": "ipython",
    "version": 3
   },
   "file_extension": ".py",
   "mimetype": "text/x-python",
   "name": "python",
   "nbconvert_exporter": "python",
   "pygments_lexer": "ipython3",
   "version": "3.7.4"
  }
 },
 "nbformat": 4,
 "nbformat_minor": 4
}
